{
  "nbformat": 4,
  "nbformat_minor": 0,
  "metadata": {
    "kernelspec": {
      "display_name": "Python 2",
      "language": "python",
      "name": "python2"
    },
    "language_info": {
      "codemirror_mode": {
        "name": "ipython",
        "version": 2
      },
      "file_extension": ".py",
      "mimetype": "text/x-python",
      "name": "python",
      "nbconvert_exporter": "python",
      "pygments_lexer": "ipython2",
      "version": "2.7.13"
    },
    "colab": {
      "name": "Investment Portfolio Python Notebook_03_2018_blog example.ipynb",
      "provenance": [],
      "include_colab_link": true
    }
  },
  "cells": [
    {
      "cell_type": "markdown",
      "metadata": {
        "id": "view-in-github",
        "colab_type": "text"
      },
      "source": [
        "<a href=\"https://colab.research.google.com/github/duy7590/portfolio_tracker/blob/master/Investment_Portfolio.ipynb\" target=\"_parent\"><img src=\"https://colab.research.google.com/assets/colab-badge.svg\" alt=\"Open In Colab\"/></a>"
      ]
    },
    {
      "cell_type": "markdown",
      "metadata": {
        "id": "LfJjQk4N3b3m",
        "colab_type": "text"
      },
      "source": [
        "**References:**  \n",
        "\n",
        "https://www.datacamp.com/community/tutorials/finance-python-trading\n",
        "\n",
        "https://github.com/datacamp/datacamp-community-tutorials/blob/master/Python%20Finance%20Tutorial%20For%20Beginners/Python%20For%20Finance%20Beginners%20Tutorial.ipynb\n",
        "\n",
        "https://pypi.python.org/pypi/fix-yahoo-finance\n",
        "\n",
        "http://www.learndatasci.com/python-finance-part-yahoo-finance-api-pandas-matplotlib/"
      ]
    },
    {
      "cell_type": "code",
      "metadata": {
        "id": "-pdgnRRa3b3n",
        "colab_type": "code",
        "colab": {}
      },
      "source": [
        "# Import initial libraries\n",
        "\n",
        "import pandas as pd\n",
        "import numpy as np\n",
        "import datetime\n",
        "import matplotlib.pyplot as plt\n",
        "%matplotlib inline"
      ],
      "execution_count": 1,
      "outputs": []
    },
    {
      "cell_type": "code",
      "metadata": {
        "id": "n2Y69p1r3b3r",
        "colab_type": "code",
        "colab": {
          "base_uri": "https://localhost:8080/",
          "height": 34
        },
        "outputId": "a0019ff1-3f10-4f03-f165-657f0b488c2e"
      },
      "source": [
        "# Imports in order to be able to use Plotly offline.\n",
        "from plotly import __version__\n",
        "from plotly.offline import download_plotlyjs, init_notebook_mode, plot, iplot\n",
        "\n",
        "import plotly.graph_objs as go\n",
        "\n",
        "print(__version__) # requires version >= 1.9.0\n",
        "\n",
        "init_notebook_mode(connected=True)"
      ],
      "execution_count": 2,
      "outputs": [
        {
          "output_type": "stream",
          "text": [
            "3.6.1\n"
          ],
          "name": "stdout"
        },
        {
          "output_type": "display_data",
          "data": {
            "text/html": [
              "<script type=\"text/javascript\">window.PlotlyConfig = {MathJaxConfig: 'local'};</script><script type=\"text/javascript\">if (window.MathJax) {MathJax.Hub.Config({SVG: {font: \"STIX-Web\"}});}</script><script>requirejs.config({paths: { 'plotly': ['https://cdn.plot.ly/plotly-latest.min']},});if(!window._Plotly) {require(['plotly'],function(plotly) {window._Plotly=plotly;});}</script>"
            ],
            "text/vnd.plotly.v1+html": "<script type=\"text/javascript\">window.PlotlyConfig = {MathJaxConfig: 'local'};</script><script type=\"text/javascript\">if (window.MathJax) {MathJax.Hub.Config({SVG: {font: \"STIX-Web\"}});}</script><script>requirejs.config({paths: { 'plotly': ['https://cdn.plot.ly/plotly-latest.min']},});if(!window._Plotly) {require(['plotly'],function(plotly) {window._Plotly=plotly;});}</script>"
          },
          "metadata": {
            "tags": []
          }
        }
      ]
    },
    {
      "cell_type": "code",
      "metadata": {
        "id": "VrirsWMU3b3v",
        "colab_type": "code",
        "colab": {
          "base_uri": "https://localhost:8080/",
          "height": 297
        },
        "outputId": "c9d97bf1-a970-41c6-86da-eee15f96b01f"
      },
      "source": [
        "# Import the Sample worksheet with acquisition dates and initial cost basis:\n",
        "\n",
        "import pandas as pd\n",
        "import io\n",
        "import requests\n",
        "url=\"https://raw.githubusercontent.com/duy7590/portfolio_tracker/master/data.csv\"\n",
        "s=requests.get(url).content\n",
        "portfolio_df = pd.read_csv(io.StringIO(s.decode('utf-8')))\n",
        "portfolio_df['Acquisition Date'] = portfolio_df['Acquisition Date'].astype('datetime64[ns]') \n",
        "portfolio_df.head(10)"
      ],
      "execution_count": 3,
      "outputs": [
        {
          "output_type": "execute_result",
          "data": {
            "text/plain": [
              "  Acquisition Date Ticker  Quantity  Unit Cost Cost Basis Start of Year\n",
              "0       2013-02-07   AAPL       125      65.40   8,175.00      12/29/17\n",
              "1       2014-02-27    JNJ       100      81.90   8,190.00      12/29/17\n",
              "2       2013-06-04    MCD       100      84.99   8,499.00      12/29/17\n",
              "3       2015-12-14   MTCH       600      13.63   8,178.00      12/29/17\n",
              "4       2016-01-14   NFLX        75     108.71   8,153.25      12/29/17\n",
              "5       2013-08-14    WMT       125      68.30   8,537.50      12/29/17\n",
              "6       2013-12-13     FB       150      53.32   7,998.00      12/29/17\n",
              "7       2015-01-05   TWTR       225      36.38   8,185.50      12/29/17"
            ],
            "text/html": [
              "<div>\n",
              "<style scoped>\n",
              "    .dataframe tbody tr th:only-of-type {\n",
              "        vertical-align: middle;\n",
              "    }\n",
              "\n",
              "    .dataframe tbody tr th {\n",
              "        vertical-align: top;\n",
              "    }\n",
              "\n",
              "    .dataframe thead th {\n",
              "        text-align: right;\n",
              "    }\n",
              "</style>\n",
              "<table border=\"1\" class=\"dataframe\">\n",
              "  <thead>\n",
              "    <tr style=\"text-align: right;\">\n",
              "      <th></th>\n",
              "      <th>Acquisition Date</th>\n",
              "      <th>Ticker</th>\n",
              "      <th>Quantity</th>\n",
              "      <th>Unit Cost</th>\n",
              "      <th>Cost Basis</th>\n",
              "      <th>Start of Year</th>\n",
              "    </tr>\n",
              "  </thead>\n",
              "  <tbody>\n",
              "    <tr>\n",
              "      <th>0</th>\n",
              "      <td>2013-02-07</td>\n",
              "      <td>AAPL</td>\n",
              "      <td>125</td>\n",
              "      <td>65.40</td>\n",
              "      <td>8,175.00</td>\n",
              "      <td>12/29/17</td>\n",
              "    </tr>\n",
              "    <tr>\n",
              "      <th>1</th>\n",
              "      <td>2014-02-27</td>\n",
              "      <td>JNJ</td>\n",
              "      <td>100</td>\n",
              "      <td>81.90</td>\n",
              "      <td>8,190.00</td>\n",
              "      <td>12/29/17</td>\n",
              "    </tr>\n",
              "    <tr>\n",
              "      <th>2</th>\n",
              "      <td>2013-06-04</td>\n",
              "      <td>MCD</td>\n",
              "      <td>100</td>\n",
              "      <td>84.99</td>\n",
              "      <td>8,499.00</td>\n",
              "      <td>12/29/17</td>\n",
              "    </tr>\n",
              "    <tr>\n",
              "      <th>3</th>\n",
              "      <td>2015-12-14</td>\n",
              "      <td>MTCH</td>\n",
              "      <td>600</td>\n",
              "      <td>13.63</td>\n",
              "      <td>8,178.00</td>\n",
              "      <td>12/29/17</td>\n",
              "    </tr>\n",
              "    <tr>\n",
              "      <th>4</th>\n",
              "      <td>2016-01-14</td>\n",
              "      <td>NFLX</td>\n",
              "      <td>75</td>\n",
              "      <td>108.71</td>\n",
              "      <td>8,153.25</td>\n",
              "      <td>12/29/17</td>\n",
              "    </tr>\n",
              "    <tr>\n",
              "      <th>5</th>\n",
              "      <td>2013-08-14</td>\n",
              "      <td>WMT</td>\n",
              "      <td>125</td>\n",
              "      <td>68.30</td>\n",
              "      <td>8,537.50</td>\n",
              "      <td>12/29/17</td>\n",
              "    </tr>\n",
              "    <tr>\n",
              "      <th>6</th>\n",
              "      <td>2013-12-13</td>\n",
              "      <td>FB</td>\n",
              "      <td>150</td>\n",
              "      <td>53.32</td>\n",
              "      <td>7,998.00</td>\n",
              "      <td>12/29/17</td>\n",
              "    </tr>\n",
              "    <tr>\n",
              "      <th>7</th>\n",
              "      <td>2015-01-05</td>\n",
              "      <td>TWTR</td>\n",
              "      <td>225</td>\n",
              "      <td>36.38</td>\n",
              "      <td>8,185.50</td>\n",
              "      <td>12/29/17</td>\n",
              "    </tr>\n",
              "  </tbody>\n",
              "</table>\n",
              "</div>"
            ]
          },
          "metadata": {
            "tags": []
          },
          "execution_count": 3
        }
      ]
    },
    {
      "cell_type": "code",
      "metadata": {
        "id": "5jNqausU3b3y",
        "colab_type": "code",
        "colab": {
          "base_uri": "https://localhost:8080/",
          "height": 204
        },
        "outputId": "aec437ad-4264-422b-d0da-8612e3c7091d"
      },
      "source": [
        "# Confirm that you have 8 values for each column.\n",
        "\n",
        "portfolio_df.info()"
      ],
      "execution_count": 4,
      "outputs": [
        {
          "output_type": "stream",
          "text": [
            "<class 'pandas.core.frame.DataFrame'>\n",
            "RangeIndex: 8 entries, 0 to 7\n",
            "Data columns (total 6 columns):\n",
            "Acquisition Date    8 non-null datetime64[ns]\n",
            "Ticker              8 non-null object\n",
            "Quantity            8 non-null int64\n",
            "Unit Cost           8 non-null float64\n",
            "Cost Basis          8 non-null object\n",
            "Start of Year       8 non-null object\n",
            "dtypes: datetime64[ns](1), float64(1), int64(1), object(3)\n",
            "memory usage: 456.0+ bytes\n"
          ],
          "name": "stdout"
        }
      ]
    },
    {
      "cell_type": "code",
      "metadata": {
        "id": "YmYPVhZl3b31",
        "colab_type": "code",
        "colab": {}
      },
      "source": [
        "# Date Ranges for SP 500 and for all tickers\n",
        "# Modify these date ranges each week.\n",
        "\n",
        "# The below will pull back stock prices from 2010 until end date specified.\n",
        "start_sp = datetime.datetime(2013, 1, 1)\n",
        "end_sp = datetime.datetime(2018, 3, 9)\n",
        "\n",
        "# This variable is used for YTD performance.\n",
        "end_of_last_year = datetime.datetime(2017, 12, 29)\n",
        "\n",
        "# These are separate if for some reason want different date range than SP.\n",
        "stocks_start = datetime.datetime(2013, 1, 1)\n",
        "stocks_end = datetime.datetime(2020, 6, 6)"
      ],
      "execution_count": 5,
      "outputs": []
    },
    {
      "cell_type": "code",
      "metadata": {
        "id": "3dMXQ9jD3b35",
        "colab_type": "code",
        "colab": {
          "base_uri": "https://localhost:8080/",
          "height": 252
        },
        "outputId": "15e96aea-b0ac-4535-c7f1-e864b2b7c55b"
      },
      "source": [
        "# Leveraged from the helpful Datacamp Python Finance trading blog post.\n",
        "\n",
        "from pandas_datareader import data as pdr\n",
        "import fix_yahoo_finance as yf\n",
        "yf.pdr_override() # <== that's all it takes :-)\n",
        "\n",
        "sp500 = pdr.get_data_yahoo('^GSPC', \n",
        "                           start_sp,\n",
        "                             end_sp)\n",
        "                          \n",
        "sp500.head()"
      ],
      "execution_count": 6,
      "outputs": [
        {
          "output_type": "stream",
          "text": [
            "[*********************100%***********************]  1 of 1 downloaded\n"
          ],
          "name": "stdout"
        },
        {
          "output_type": "execute_result",
          "data": {
            "text/plain": [
              "                   Open         High  ...    Adj Close      Volume\n",
              "Date                                  ...                         \n",
              "2013-01-02  1426.189941  1462.430054  ...  1462.420044  4202600000\n",
              "2013-01-03  1462.420044  1465.469971  ...  1459.369995  3829730000\n",
              "2013-01-04  1459.369995  1467.939941  ...  1466.469971  3424290000\n",
              "2013-01-07  1466.469971  1466.469971  ...  1461.890015  3304970000\n",
              "2013-01-08  1461.890015  1461.890015  ...  1457.150024  3601600000\n",
              "\n",
              "[5 rows x 6 columns]"
            ],
            "text/html": [
              "<div>\n",
              "<style scoped>\n",
              "    .dataframe tbody tr th:only-of-type {\n",
              "        vertical-align: middle;\n",
              "    }\n",
              "\n",
              "    .dataframe tbody tr th {\n",
              "        vertical-align: top;\n",
              "    }\n",
              "\n",
              "    .dataframe thead th {\n",
              "        text-align: right;\n",
              "    }\n",
              "</style>\n",
              "<table border=\"1\" class=\"dataframe\">\n",
              "  <thead>\n",
              "    <tr style=\"text-align: right;\">\n",
              "      <th></th>\n",
              "      <th>Open</th>\n",
              "      <th>High</th>\n",
              "      <th>Low</th>\n",
              "      <th>Close</th>\n",
              "      <th>Adj Close</th>\n",
              "      <th>Volume</th>\n",
              "    </tr>\n",
              "    <tr>\n",
              "      <th>Date</th>\n",
              "      <th></th>\n",
              "      <th></th>\n",
              "      <th></th>\n",
              "      <th></th>\n",
              "      <th></th>\n",
              "      <th></th>\n",
              "    </tr>\n",
              "  </thead>\n",
              "  <tbody>\n",
              "    <tr>\n",
              "      <th>2013-01-02</th>\n",
              "      <td>1426.189941</td>\n",
              "      <td>1462.430054</td>\n",
              "      <td>1426.189941</td>\n",
              "      <td>1462.420044</td>\n",
              "      <td>1462.420044</td>\n",
              "      <td>4202600000</td>\n",
              "    </tr>\n",
              "    <tr>\n",
              "      <th>2013-01-03</th>\n",
              "      <td>1462.420044</td>\n",
              "      <td>1465.469971</td>\n",
              "      <td>1455.530029</td>\n",
              "      <td>1459.369995</td>\n",
              "      <td>1459.369995</td>\n",
              "      <td>3829730000</td>\n",
              "    </tr>\n",
              "    <tr>\n",
              "      <th>2013-01-04</th>\n",
              "      <td>1459.369995</td>\n",
              "      <td>1467.939941</td>\n",
              "      <td>1458.989990</td>\n",
              "      <td>1466.469971</td>\n",
              "      <td>1466.469971</td>\n",
              "      <td>3424290000</td>\n",
              "    </tr>\n",
              "    <tr>\n",
              "      <th>2013-01-07</th>\n",
              "      <td>1466.469971</td>\n",
              "      <td>1466.469971</td>\n",
              "      <td>1456.619995</td>\n",
              "      <td>1461.890015</td>\n",
              "      <td>1461.890015</td>\n",
              "      <td>3304970000</td>\n",
              "    </tr>\n",
              "    <tr>\n",
              "      <th>2013-01-08</th>\n",
              "      <td>1461.890015</td>\n",
              "      <td>1461.890015</td>\n",
              "      <td>1451.640015</td>\n",
              "      <td>1457.150024</td>\n",
              "      <td>1457.150024</td>\n",
              "      <td>3601600000</td>\n",
              "    </tr>\n",
              "  </tbody>\n",
              "</table>\n",
              "</div>"
            ]
          },
          "metadata": {
            "tags": []
          },
          "execution_count": 6
        }
      ]
    },
    {
      "cell_type": "code",
      "metadata": {
        "id": "siDCZkRs3b38",
        "colab_type": "code",
        "colab": {
          "base_uri": "https://localhost:8080/",
          "height": 235
        },
        "outputId": "b6278131-7f27-4522-ccd7-e13f0b469cd1"
      },
      "source": [
        "sp500.tail()"
      ],
      "execution_count": 7,
      "outputs": [
        {
          "output_type": "execute_result",
          "data": {
            "text/plain": [
              "                   Open         High  ...    Adj Close      Volume\n",
              "Date                                  ...                         \n",
              "2018-03-02  2658.889893  2696.250000  ...  2691.250000  3882450000\n",
              "2018-03-05  2681.060059  2728.090088  ...  2720.939941  3710810000\n",
              "2018-03-06  2730.179932  2732.080078  ...  2728.120117  3370690000\n",
              "2018-03-07  2710.179932  2730.600098  ...  2726.800049  3393270000\n",
              "2018-03-08  2732.750000  2740.449951  ...  2738.969971  3212320000\n",
              "\n",
              "[5 rows x 6 columns]"
            ],
            "text/html": [
              "<div>\n",
              "<style scoped>\n",
              "    .dataframe tbody tr th:only-of-type {\n",
              "        vertical-align: middle;\n",
              "    }\n",
              "\n",
              "    .dataframe tbody tr th {\n",
              "        vertical-align: top;\n",
              "    }\n",
              "\n",
              "    .dataframe thead th {\n",
              "        text-align: right;\n",
              "    }\n",
              "</style>\n",
              "<table border=\"1\" class=\"dataframe\">\n",
              "  <thead>\n",
              "    <tr style=\"text-align: right;\">\n",
              "      <th></th>\n",
              "      <th>Open</th>\n",
              "      <th>High</th>\n",
              "      <th>Low</th>\n",
              "      <th>Close</th>\n",
              "      <th>Adj Close</th>\n",
              "      <th>Volume</th>\n",
              "    </tr>\n",
              "    <tr>\n",
              "      <th>Date</th>\n",
              "      <th></th>\n",
              "      <th></th>\n",
              "      <th></th>\n",
              "      <th></th>\n",
              "      <th></th>\n",
              "      <th></th>\n",
              "    </tr>\n",
              "  </thead>\n",
              "  <tbody>\n",
              "    <tr>\n",
              "      <th>2018-03-02</th>\n",
              "      <td>2658.889893</td>\n",
              "      <td>2696.250000</td>\n",
              "      <td>2647.320068</td>\n",
              "      <td>2691.250000</td>\n",
              "      <td>2691.250000</td>\n",
              "      <td>3882450000</td>\n",
              "    </tr>\n",
              "    <tr>\n",
              "      <th>2018-03-05</th>\n",
              "      <td>2681.060059</td>\n",
              "      <td>2728.090088</td>\n",
              "      <td>2675.750000</td>\n",
              "      <td>2720.939941</td>\n",
              "      <td>2720.939941</td>\n",
              "      <td>3710810000</td>\n",
              "    </tr>\n",
              "    <tr>\n",
              "      <th>2018-03-06</th>\n",
              "      <td>2730.179932</td>\n",
              "      <td>2732.080078</td>\n",
              "      <td>2711.260010</td>\n",
              "      <td>2728.120117</td>\n",
              "      <td>2728.120117</td>\n",
              "      <td>3370690000</td>\n",
              "    </tr>\n",
              "    <tr>\n",
              "      <th>2018-03-07</th>\n",
              "      <td>2710.179932</td>\n",
              "      <td>2730.600098</td>\n",
              "      <td>2701.739990</td>\n",
              "      <td>2726.800049</td>\n",
              "      <td>2726.800049</td>\n",
              "      <td>3393270000</td>\n",
              "    </tr>\n",
              "    <tr>\n",
              "      <th>2018-03-08</th>\n",
              "      <td>2732.750000</td>\n",
              "      <td>2740.449951</td>\n",
              "      <td>2722.649902</td>\n",
              "      <td>2738.969971</td>\n",
              "      <td>2738.969971</td>\n",
              "      <td>3212320000</td>\n",
              "    </tr>\n",
              "  </tbody>\n",
              "</table>\n",
              "</div>"
            ]
          },
          "metadata": {
            "tags": []
          },
          "execution_count": 7
        }
      ]
    },
    {
      "cell_type": "code",
      "metadata": {
        "id": "j5GPs6eC3b4A",
        "colab_type": "code",
        "colab": {}
      },
      "source": [
        "# Create a dataframe with only the Adj Close column as that's all we need for this analysis.\n",
        "\n",
        "sp_500_adj_close = sp500[['Adj Close']].reset_index()"
      ],
      "execution_count": 8,
      "outputs": []
    },
    {
      "cell_type": "code",
      "metadata": {
        "id": "QnNXkdNc3b4D",
        "colab_type": "code",
        "colab": {
          "base_uri": "https://localhost:8080/",
          "height": 204
        },
        "outputId": "68a19135-e608-4ba7-e1cc-c82d0fc3013b"
      },
      "source": [
        "sp_500_adj_close.tail()"
      ],
      "execution_count": 9,
      "outputs": [
        {
          "output_type": "execute_result",
          "data": {
            "text/plain": [
              "           Date    Adj Close\n",
              "1300 2018-03-02  2691.250000\n",
              "1301 2018-03-05  2720.939941\n",
              "1302 2018-03-06  2728.120117\n",
              "1303 2018-03-07  2726.800049\n",
              "1304 2018-03-08  2738.969971"
            ],
            "text/html": [
              "<div>\n",
              "<style scoped>\n",
              "    .dataframe tbody tr th:only-of-type {\n",
              "        vertical-align: middle;\n",
              "    }\n",
              "\n",
              "    .dataframe tbody tr th {\n",
              "        vertical-align: top;\n",
              "    }\n",
              "\n",
              "    .dataframe thead th {\n",
              "        text-align: right;\n",
              "    }\n",
              "</style>\n",
              "<table border=\"1\" class=\"dataframe\">\n",
              "  <thead>\n",
              "    <tr style=\"text-align: right;\">\n",
              "      <th></th>\n",
              "      <th>Date</th>\n",
              "      <th>Adj Close</th>\n",
              "    </tr>\n",
              "  </thead>\n",
              "  <tbody>\n",
              "    <tr>\n",
              "      <th>1300</th>\n",
              "      <td>2018-03-02</td>\n",
              "      <td>2691.250000</td>\n",
              "    </tr>\n",
              "    <tr>\n",
              "      <th>1301</th>\n",
              "      <td>2018-03-05</td>\n",
              "      <td>2720.939941</td>\n",
              "    </tr>\n",
              "    <tr>\n",
              "      <th>1302</th>\n",
              "      <td>2018-03-06</td>\n",
              "      <td>2728.120117</td>\n",
              "    </tr>\n",
              "    <tr>\n",
              "      <th>1303</th>\n",
              "      <td>2018-03-07</td>\n",
              "      <td>2726.800049</td>\n",
              "    </tr>\n",
              "    <tr>\n",
              "      <th>1304</th>\n",
              "      <td>2018-03-08</td>\n",
              "      <td>2738.969971</td>\n",
              "    </tr>\n",
              "  </tbody>\n",
              "</table>\n",
              "</div>"
            ]
          },
          "metadata": {
            "tags": []
          },
          "execution_count": 9
        }
      ]
    },
    {
      "cell_type": "code",
      "metadata": {
        "id": "88Lhbnqi3b4G",
        "colab_type": "code",
        "colab": {
          "base_uri": "https://localhost:8080/",
          "height": 80
        },
        "outputId": "8adbc892-3966-4ed5-a871-8c3b8dd62629"
      },
      "source": [
        "# Adj Close for the EOY in 2017 in order to run comparisons versus stocks YTD performances.\n",
        "\n",
        "sp_500_adj_close_start = sp_500_adj_close[sp_500_adj_close['Date']==end_of_last_year]\n",
        "sp_500_adj_close_start"
      ],
      "execution_count": 10,
      "outputs": [
        {
          "output_type": "execute_result",
          "data": {
            "text/plain": [
              "           Date    Adj Close\n",
              "1258 2017-12-29  2673.610107"
            ],
            "text/html": [
              "<div>\n",
              "<style scoped>\n",
              "    .dataframe tbody tr th:only-of-type {\n",
              "        vertical-align: middle;\n",
              "    }\n",
              "\n",
              "    .dataframe tbody tr th {\n",
              "        vertical-align: top;\n",
              "    }\n",
              "\n",
              "    .dataframe thead th {\n",
              "        text-align: right;\n",
              "    }\n",
              "</style>\n",
              "<table border=\"1\" class=\"dataframe\">\n",
              "  <thead>\n",
              "    <tr style=\"text-align: right;\">\n",
              "      <th></th>\n",
              "      <th>Date</th>\n",
              "      <th>Adj Close</th>\n",
              "    </tr>\n",
              "  </thead>\n",
              "  <tbody>\n",
              "    <tr>\n",
              "      <th>1258</th>\n",
              "      <td>2017-12-29</td>\n",
              "      <td>2673.610107</td>\n",
              "    </tr>\n",
              "  </tbody>\n",
              "</table>\n",
              "</div>"
            ]
          },
          "metadata": {
            "tags": []
          },
          "execution_count": 10
        }
      ]
    },
    {
      "cell_type": "code",
      "metadata": {
        "id": "hL_IEhI83b4I",
        "colab_type": "code",
        "colab": {
          "base_uri": "https://localhost:8080/",
          "height": 51
        },
        "outputId": "e7f35305-1594-42fc-a03a-8668beb8e7fe"
      },
      "source": [
        "# Generate a dynamic list of tickers to pull from Yahoo Finance API based on the imported file with tickers.\n",
        "tickers = portfolio_df['Ticker'].unique()\n",
        "tickers"
      ],
      "execution_count": 11,
      "outputs": [
        {
          "output_type": "execute_result",
          "data": {
            "text/plain": [
              "array(['AAPL', 'JNJ', 'MCD', 'MTCH', 'NFLX', 'WMT', 'FB', 'TWTR'],\n",
              "      dtype=object)"
            ]
          },
          "metadata": {
            "tags": []
          },
          "execution_count": 11
        }
      ]
    },
    {
      "cell_type": "code",
      "metadata": {
        "id": "V1o5HT5O3b4L",
        "colab_type": "code",
        "colab": {
          "base_uri": "https://localhost:8080/",
          "height": 153
        },
        "outputId": "a0728355-b037-40d7-fd59-2365704fb1a2"
      },
      "source": [
        "# Stock comparison code\n",
        "\n",
        "def get(tickers, startdate, enddate):\n",
        "    def data(ticker):\n",
        "        return (pdr.get_data_yahoo(ticker, start=startdate, end=enddate))\n",
        "    datas = map(data, tickers)\n",
        "    return(pd.concat(datas, keys=tickers, names=['Ticker', 'Date']))\n",
        "               \n",
        "all_data = get(tickers, stocks_start, stocks_end)"
      ],
      "execution_count": 12,
      "outputs": [
        {
          "output_type": "stream",
          "text": [
            "[*********************100%***********************]  1 of 1 downloaded\n",
            "[*********************100%***********************]  1 of 1 downloaded\n",
            "[*********************100%***********************]  1 of 1 downloaded\n",
            "[*********************100%***********************]  1 of 1 downloaded\n",
            "[*********************100%***********************]  1 of 1 downloaded\n",
            "[*********************100%***********************]  1 of 1 downloaded\n",
            "[*********************100%***********************]  1 of 1 downloaded\n",
            "[*********************100%***********************]  1 of 1 downloaded\n"
          ],
          "name": "stdout"
        }
      ]
    },
    {
      "cell_type": "code",
      "metadata": {
        "id": "bHlz6C2d3b4O",
        "colab_type": "code",
        "colab": {
          "base_uri": "https://localhost:8080/",
          "height": 235
        },
        "outputId": "a9d0232d-0a10-4903-f35e-7aae95e273e4"
      },
      "source": [
        "all_data.head()"
      ],
      "execution_count": 13,
      "outputs": [
        {
          "output_type": "execute_result",
          "data": {
            "text/plain": [
              "                        Open       High  ...  Adj Close     Volume\n",
              "Ticker Date                              ...                      \n",
              "AAPL   2013-01-02  79.117142  79.285713  ...  68.502106  140129500\n",
              "       2013-01-03  78.268570  78.524284  ...  67.637436   88241300\n",
              "       2013-01-04  76.709999  76.947144  ...  65.753418  148583400\n",
              "       2013-01-07  74.571426  75.614288  ...  65.366646  121039100\n",
              "       2013-01-08  75.601425  75.984283  ...  65.542587  114676800\n",
              "\n",
              "[5 rows x 6 columns]"
            ],
            "text/html": [
              "<div>\n",
              "<style scoped>\n",
              "    .dataframe tbody tr th:only-of-type {\n",
              "        vertical-align: middle;\n",
              "    }\n",
              "\n",
              "    .dataframe tbody tr th {\n",
              "        vertical-align: top;\n",
              "    }\n",
              "\n",
              "    .dataframe thead th {\n",
              "        text-align: right;\n",
              "    }\n",
              "</style>\n",
              "<table border=\"1\" class=\"dataframe\">\n",
              "  <thead>\n",
              "    <tr style=\"text-align: right;\">\n",
              "      <th></th>\n",
              "      <th></th>\n",
              "      <th>Open</th>\n",
              "      <th>High</th>\n",
              "      <th>Low</th>\n",
              "      <th>Close</th>\n",
              "      <th>Adj Close</th>\n",
              "      <th>Volume</th>\n",
              "    </tr>\n",
              "    <tr>\n",
              "      <th>Ticker</th>\n",
              "      <th>Date</th>\n",
              "      <th></th>\n",
              "      <th></th>\n",
              "      <th></th>\n",
              "      <th></th>\n",
              "      <th></th>\n",
              "      <th></th>\n",
              "    </tr>\n",
              "  </thead>\n",
              "  <tbody>\n",
              "    <tr>\n",
              "      <th rowspan=\"5\" valign=\"top\">AAPL</th>\n",
              "      <th>2013-01-02</th>\n",
              "      <td>79.117142</td>\n",
              "      <td>79.285713</td>\n",
              "      <td>77.375717</td>\n",
              "      <td>78.432854</td>\n",
              "      <td>68.502106</td>\n",
              "      <td>140129500</td>\n",
              "    </tr>\n",
              "    <tr>\n",
              "      <th>2013-01-03</th>\n",
              "      <td>78.268570</td>\n",
              "      <td>78.524284</td>\n",
              "      <td>77.285713</td>\n",
              "      <td>77.442856</td>\n",
              "      <td>67.637436</td>\n",
              "      <td>88241300</td>\n",
              "    </tr>\n",
              "    <tr>\n",
              "      <th>2013-01-04</th>\n",
              "      <td>76.709999</td>\n",
              "      <td>76.947144</td>\n",
              "      <td>75.118568</td>\n",
              "      <td>75.285713</td>\n",
              "      <td>65.753418</td>\n",
              "      <td>148583400</td>\n",
              "    </tr>\n",
              "    <tr>\n",
              "      <th>2013-01-07</th>\n",
              "      <td>74.571426</td>\n",
              "      <td>75.614288</td>\n",
              "      <td>73.599998</td>\n",
              "      <td>74.842857</td>\n",
              "      <td>65.366646</td>\n",
              "      <td>121039100</td>\n",
              "    </tr>\n",
              "    <tr>\n",
              "      <th>2013-01-08</th>\n",
              "      <td>75.601425</td>\n",
              "      <td>75.984283</td>\n",
              "      <td>74.464287</td>\n",
              "      <td>75.044289</td>\n",
              "      <td>65.542587</td>\n",
              "      <td>114676800</td>\n",
              "    </tr>\n",
              "  </tbody>\n",
              "</table>\n",
              "</div>"
            ]
          },
          "metadata": {
            "tags": []
          },
          "execution_count": 13
        }
      ]
    },
    {
      "cell_type": "code",
      "metadata": {
        "id": "sws8teIS3b4R",
        "colab_type": "code",
        "colab": {
          "base_uri": "https://localhost:8080/",
          "height": 204
        },
        "outputId": "e733bc0b-072e-4ce8-b5a4-4759ff4ea1ba"
      },
      "source": [
        "# Also only pulling the ticker, date and adj. close columns for our tickers.\n",
        "\n",
        "adj_close = all_data[['Adj Close']].reset_index()\n",
        "adj_close.head()"
      ],
      "execution_count": 14,
      "outputs": [
        {
          "output_type": "execute_result",
          "data": {
            "text/plain": [
              "  Ticker       Date  Adj Close\n",
              "0   AAPL 2013-01-02  68.502106\n",
              "1   AAPL 2013-01-03  67.637436\n",
              "2   AAPL 2013-01-04  65.753418\n",
              "3   AAPL 2013-01-07  65.366646\n",
              "4   AAPL 2013-01-08  65.542587"
            ],
            "text/html": [
              "<div>\n",
              "<style scoped>\n",
              "    .dataframe tbody tr th:only-of-type {\n",
              "        vertical-align: middle;\n",
              "    }\n",
              "\n",
              "    .dataframe tbody tr th {\n",
              "        vertical-align: top;\n",
              "    }\n",
              "\n",
              "    .dataframe thead th {\n",
              "        text-align: right;\n",
              "    }\n",
              "</style>\n",
              "<table border=\"1\" class=\"dataframe\">\n",
              "  <thead>\n",
              "    <tr style=\"text-align: right;\">\n",
              "      <th></th>\n",
              "      <th>Ticker</th>\n",
              "      <th>Date</th>\n",
              "      <th>Adj Close</th>\n",
              "    </tr>\n",
              "  </thead>\n",
              "  <tbody>\n",
              "    <tr>\n",
              "      <th>0</th>\n",
              "      <td>AAPL</td>\n",
              "      <td>2013-01-02</td>\n",
              "      <td>68.502106</td>\n",
              "    </tr>\n",
              "    <tr>\n",
              "      <th>1</th>\n",
              "      <td>AAPL</td>\n",
              "      <td>2013-01-03</td>\n",
              "      <td>67.637436</td>\n",
              "    </tr>\n",
              "    <tr>\n",
              "      <th>2</th>\n",
              "      <td>AAPL</td>\n",
              "      <td>2013-01-04</td>\n",
              "      <td>65.753418</td>\n",
              "    </tr>\n",
              "    <tr>\n",
              "      <th>3</th>\n",
              "      <td>AAPL</td>\n",
              "      <td>2013-01-07</td>\n",
              "      <td>65.366646</td>\n",
              "    </tr>\n",
              "    <tr>\n",
              "      <th>4</th>\n",
              "      <td>AAPL</td>\n",
              "      <td>2013-01-08</td>\n",
              "      <td>65.542587</td>\n",
              "    </tr>\n",
              "  </tbody>\n",
              "</table>\n",
              "</div>"
            ]
          },
          "metadata": {
            "tags": []
          },
          "execution_count": 14
        }
      ]
    },
    {
      "cell_type": "code",
      "metadata": {
        "id": "NokSN2HV3b4U",
        "colab_type": "code",
        "colab": {
          "base_uri": "https://localhost:8080/",
          "height": 204
        },
        "outputId": "3999a06c-a5bc-4584-d5bb-aafca4afe4f7"
      },
      "source": [
        "# Grabbing the ticker close from the end of last year\n",
        "adj_close_start = adj_close[adj_close['Date']==end_of_last_year]\n",
        "adj_close_start.head()"
      ],
      "execution_count": 15,
      "outputs": [
        {
          "output_type": "execute_result",
          "data": {
            "text/plain": [
              "     Ticker       Date   Adj Close\n",
              "1258   AAPL 2017-12-29  163.427597\n",
              "3128    JNJ 2017-12-29  130.557571\n",
              "4998    MCD 2017-12-29  161.814545\n",
              "6141   MTCH 2017-12-29   29.799627\n",
              "8011   NFLX 2017-12-29  191.960007"
            ],
            "text/html": [
              "<div>\n",
              "<style scoped>\n",
              "    .dataframe tbody tr th:only-of-type {\n",
              "        vertical-align: middle;\n",
              "    }\n",
              "\n",
              "    .dataframe tbody tr th {\n",
              "        vertical-align: top;\n",
              "    }\n",
              "\n",
              "    .dataframe thead th {\n",
              "        text-align: right;\n",
              "    }\n",
              "</style>\n",
              "<table border=\"1\" class=\"dataframe\">\n",
              "  <thead>\n",
              "    <tr style=\"text-align: right;\">\n",
              "      <th></th>\n",
              "      <th>Ticker</th>\n",
              "      <th>Date</th>\n",
              "      <th>Adj Close</th>\n",
              "    </tr>\n",
              "  </thead>\n",
              "  <tbody>\n",
              "    <tr>\n",
              "      <th>1258</th>\n",
              "      <td>AAPL</td>\n",
              "      <td>2017-12-29</td>\n",
              "      <td>163.427597</td>\n",
              "    </tr>\n",
              "    <tr>\n",
              "      <th>3128</th>\n",
              "      <td>JNJ</td>\n",
              "      <td>2017-12-29</td>\n",
              "      <td>130.557571</td>\n",
              "    </tr>\n",
              "    <tr>\n",
              "      <th>4998</th>\n",
              "      <td>MCD</td>\n",
              "      <td>2017-12-29</td>\n",
              "      <td>161.814545</td>\n",
              "    </tr>\n",
              "    <tr>\n",
              "      <th>6141</th>\n",
              "      <td>MTCH</td>\n",
              "      <td>2017-12-29</td>\n",
              "      <td>29.799627</td>\n",
              "    </tr>\n",
              "    <tr>\n",
              "      <th>8011</th>\n",
              "      <td>NFLX</td>\n",
              "      <td>2017-12-29</td>\n",
              "      <td>191.960007</td>\n",
              "    </tr>\n",
              "  </tbody>\n",
              "</table>\n",
              "</div>"
            ]
          },
          "metadata": {
            "tags": []
          },
          "execution_count": 15
        }
      ]
    },
    {
      "cell_type": "code",
      "metadata": {
        "id": "b0tTyo_t3b4X",
        "colab_type": "code",
        "colab": {
          "base_uri": "https://localhost:8080/",
          "height": 297
        },
        "outputId": "d6a6b05e-46a3-4698-8add-668bef35e675"
      },
      "source": [
        "# Grab the latest stock close price\n",
        "\n",
        "adj_close_latest = adj_close[adj_close['Date']==(stocks_end-datetime.timedelta(1))]\n",
        "adj_close_latest"
      ],
      "execution_count": 16,
      "outputs": [
        {
          "output_type": "execute_result",
          "data": {
            "text/plain": [
              "      Ticker       Date   Adj Close\n",
              "1869    AAPL 2020-06-05  331.500000\n",
              "3739     JNJ 2020-06-05  147.300003\n",
              "5609     MCD 2020-06-05  197.160004\n",
              "6752    MTCH 2020-06-05   90.089996\n",
              "8622    NFLX 2020-06-05  419.600006\n",
              "10492    WMT 2020-06-05  121.559998\n",
              "12362     FB 2020-06-05  230.770004\n",
              "14017   TWTR 2020-06-05   34.869999"
            ],
            "text/html": [
              "<div>\n",
              "<style scoped>\n",
              "    .dataframe tbody tr th:only-of-type {\n",
              "        vertical-align: middle;\n",
              "    }\n",
              "\n",
              "    .dataframe tbody tr th {\n",
              "        vertical-align: top;\n",
              "    }\n",
              "\n",
              "    .dataframe thead th {\n",
              "        text-align: right;\n",
              "    }\n",
              "</style>\n",
              "<table border=\"1\" class=\"dataframe\">\n",
              "  <thead>\n",
              "    <tr style=\"text-align: right;\">\n",
              "      <th></th>\n",
              "      <th>Ticker</th>\n",
              "      <th>Date</th>\n",
              "      <th>Adj Close</th>\n",
              "    </tr>\n",
              "  </thead>\n",
              "  <tbody>\n",
              "    <tr>\n",
              "      <th>1869</th>\n",
              "      <td>AAPL</td>\n",
              "      <td>2020-06-05</td>\n",
              "      <td>331.500000</td>\n",
              "    </tr>\n",
              "    <tr>\n",
              "      <th>3739</th>\n",
              "      <td>JNJ</td>\n",
              "      <td>2020-06-05</td>\n",
              "      <td>147.300003</td>\n",
              "    </tr>\n",
              "    <tr>\n",
              "      <th>5609</th>\n",
              "      <td>MCD</td>\n",
              "      <td>2020-06-05</td>\n",
              "      <td>197.160004</td>\n",
              "    </tr>\n",
              "    <tr>\n",
              "      <th>6752</th>\n",
              "      <td>MTCH</td>\n",
              "      <td>2020-06-05</td>\n",
              "      <td>90.089996</td>\n",
              "    </tr>\n",
              "    <tr>\n",
              "      <th>8622</th>\n",
              "      <td>NFLX</td>\n",
              "      <td>2020-06-05</td>\n",
              "      <td>419.600006</td>\n",
              "    </tr>\n",
              "    <tr>\n",
              "      <th>10492</th>\n",
              "      <td>WMT</td>\n",
              "      <td>2020-06-05</td>\n",
              "      <td>121.559998</td>\n",
              "    </tr>\n",
              "    <tr>\n",
              "      <th>12362</th>\n",
              "      <td>FB</td>\n",
              "      <td>2020-06-05</td>\n",
              "      <td>230.770004</td>\n",
              "    </tr>\n",
              "    <tr>\n",
              "      <th>14017</th>\n",
              "      <td>TWTR</td>\n",
              "      <td>2020-06-05</td>\n",
              "      <td>34.869999</td>\n",
              "    </tr>\n",
              "  </tbody>\n",
              "</table>\n",
              "</div>"
            ]
          },
          "metadata": {
            "tags": []
          },
          "execution_count": 16
        }
      ]
    },
    {
      "cell_type": "code",
      "metadata": {
        "id": "Hu1AUNek3b4a",
        "colab_type": "code",
        "colab": {
          "base_uri": "https://localhost:8080/",
          "height": 235
        },
        "outputId": "8ed70dfa-6cee-4e5d-c0aa-c03cbc03a71e"
      },
      "source": [
        "adj_close_latest.set_index('Ticker', inplace=True)\n",
        "adj_close_latest.head()"
      ],
      "execution_count": 17,
      "outputs": [
        {
          "output_type": "execute_result",
          "data": {
            "text/plain": [
              "             Date   Adj Close\n",
              "Ticker                       \n",
              "AAPL   2020-06-05  331.500000\n",
              "JNJ    2020-06-05  147.300003\n",
              "MCD    2020-06-05  197.160004\n",
              "MTCH   2020-06-05   90.089996\n",
              "NFLX   2020-06-05  419.600006"
            ],
            "text/html": [
              "<div>\n",
              "<style scoped>\n",
              "    .dataframe tbody tr th:only-of-type {\n",
              "        vertical-align: middle;\n",
              "    }\n",
              "\n",
              "    .dataframe tbody tr th {\n",
              "        vertical-align: top;\n",
              "    }\n",
              "\n",
              "    .dataframe thead th {\n",
              "        text-align: right;\n",
              "    }\n",
              "</style>\n",
              "<table border=\"1\" class=\"dataframe\">\n",
              "  <thead>\n",
              "    <tr style=\"text-align: right;\">\n",
              "      <th></th>\n",
              "      <th>Date</th>\n",
              "      <th>Adj Close</th>\n",
              "    </tr>\n",
              "    <tr>\n",
              "      <th>Ticker</th>\n",
              "      <th></th>\n",
              "      <th></th>\n",
              "    </tr>\n",
              "  </thead>\n",
              "  <tbody>\n",
              "    <tr>\n",
              "      <th>AAPL</th>\n",
              "      <td>2020-06-05</td>\n",
              "      <td>331.500000</td>\n",
              "    </tr>\n",
              "    <tr>\n",
              "      <th>JNJ</th>\n",
              "      <td>2020-06-05</td>\n",
              "      <td>147.300003</td>\n",
              "    </tr>\n",
              "    <tr>\n",
              "      <th>MCD</th>\n",
              "      <td>2020-06-05</td>\n",
              "      <td>197.160004</td>\n",
              "    </tr>\n",
              "    <tr>\n",
              "      <th>MTCH</th>\n",
              "      <td>2020-06-05</td>\n",
              "      <td>90.089996</td>\n",
              "    </tr>\n",
              "    <tr>\n",
              "      <th>NFLX</th>\n",
              "      <td>2020-06-05</td>\n",
              "      <td>419.600006</td>\n",
              "    </tr>\n",
              "  </tbody>\n",
              "</table>\n",
              "</div>"
            ]
          },
          "metadata": {
            "tags": []
          },
          "execution_count": 17
        }
      ]
    },
    {
      "cell_type": "code",
      "metadata": {
        "id": "-skI6aqF3b4d",
        "colab_type": "code",
        "colab": {
          "base_uri": "https://localhost:8080/",
          "height": 235
        },
        "outputId": "44d0e5c2-8717-4b85-8d6d-2549a773bf65"
      },
      "source": [
        "portfolio_df.set_index(['Ticker'], inplace=True)\n",
        "\n",
        "portfolio_df.head()"
      ],
      "execution_count": 18,
      "outputs": [
        {
          "output_type": "execute_result",
          "data": {
            "text/plain": [
              "       Acquisition Date  Quantity  Unit Cost Cost Basis Start of Year\n",
              "Ticker                                                               \n",
              "AAPL         2013-02-07       125      65.40   8,175.00      12/29/17\n",
              "JNJ          2014-02-27       100      81.90   8,190.00      12/29/17\n",
              "MCD          2013-06-04       100      84.99   8,499.00      12/29/17\n",
              "MTCH         2015-12-14       600      13.63   8,178.00      12/29/17\n",
              "NFLX         2016-01-14        75     108.71   8,153.25      12/29/17"
            ],
            "text/html": [
              "<div>\n",
              "<style scoped>\n",
              "    .dataframe tbody tr th:only-of-type {\n",
              "        vertical-align: middle;\n",
              "    }\n",
              "\n",
              "    .dataframe tbody tr th {\n",
              "        vertical-align: top;\n",
              "    }\n",
              "\n",
              "    .dataframe thead th {\n",
              "        text-align: right;\n",
              "    }\n",
              "</style>\n",
              "<table border=\"1\" class=\"dataframe\">\n",
              "  <thead>\n",
              "    <tr style=\"text-align: right;\">\n",
              "      <th></th>\n",
              "      <th>Acquisition Date</th>\n",
              "      <th>Quantity</th>\n",
              "      <th>Unit Cost</th>\n",
              "      <th>Cost Basis</th>\n",
              "      <th>Start of Year</th>\n",
              "    </tr>\n",
              "    <tr>\n",
              "      <th>Ticker</th>\n",
              "      <th></th>\n",
              "      <th></th>\n",
              "      <th></th>\n",
              "      <th></th>\n",
              "      <th></th>\n",
              "    </tr>\n",
              "  </thead>\n",
              "  <tbody>\n",
              "    <tr>\n",
              "      <th>AAPL</th>\n",
              "      <td>2013-02-07</td>\n",
              "      <td>125</td>\n",
              "      <td>65.40</td>\n",
              "      <td>8,175.00</td>\n",
              "      <td>12/29/17</td>\n",
              "    </tr>\n",
              "    <tr>\n",
              "      <th>JNJ</th>\n",
              "      <td>2014-02-27</td>\n",
              "      <td>100</td>\n",
              "      <td>81.90</td>\n",
              "      <td>8,190.00</td>\n",
              "      <td>12/29/17</td>\n",
              "    </tr>\n",
              "    <tr>\n",
              "      <th>MCD</th>\n",
              "      <td>2013-06-04</td>\n",
              "      <td>100</td>\n",
              "      <td>84.99</td>\n",
              "      <td>8,499.00</td>\n",
              "      <td>12/29/17</td>\n",
              "    </tr>\n",
              "    <tr>\n",
              "      <th>MTCH</th>\n",
              "      <td>2015-12-14</td>\n",
              "      <td>600</td>\n",
              "      <td>13.63</td>\n",
              "      <td>8,178.00</td>\n",
              "      <td>12/29/17</td>\n",
              "    </tr>\n",
              "    <tr>\n",
              "      <th>NFLX</th>\n",
              "      <td>2016-01-14</td>\n",
              "      <td>75</td>\n",
              "      <td>108.71</td>\n",
              "      <td>8,153.25</td>\n",
              "      <td>12/29/17</td>\n",
              "    </tr>\n",
              "  </tbody>\n",
              "</table>\n",
              "</div>"
            ]
          },
          "metadata": {
            "tags": []
          },
          "execution_count": 18
        }
      ]
    },
    {
      "cell_type": "code",
      "metadata": {
        "id": "oLzCHYwc3b4g",
        "colab_type": "code",
        "colab": {
          "base_uri": "https://localhost:8080/",
          "height": 328
        },
        "outputId": "381d1d46-d8fa-4c3b-ec17-9946f6c898be"
      },
      "source": [
        "# Merge the portfolio dataframe with the adj close dataframe; they are being joined by their indexes.\n",
        "\n",
        "merged_portfolio = pd.merge(portfolio_df, adj_close_latest, left_index=True, right_index=True)\n",
        "merged_portfolio"
      ],
      "execution_count": 19,
      "outputs": [
        {
          "output_type": "execute_result",
          "data": {
            "text/plain": [
              "       Acquisition Date  Quantity  ...       Date   Adj Close\n",
              "Ticker                             ...                       \n",
              "AAPL         2013-02-07       125  ... 2020-06-05  331.500000\n",
              "JNJ          2014-02-27       100  ... 2020-06-05  147.300003\n",
              "MCD          2013-06-04       100  ... 2020-06-05  197.160004\n",
              "MTCH         2015-12-14       600  ... 2020-06-05   90.089996\n",
              "NFLX         2016-01-14        75  ... 2020-06-05  419.600006\n",
              "WMT          2013-08-14       125  ... 2020-06-05  121.559998\n",
              "FB           2013-12-13       150  ... 2020-06-05  230.770004\n",
              "TWTR         2015-01-05       225  ... 2020-06-05   34.869999\n",
              "\n",
              "[8 rows x 7 columns]"
            ],
            "text/html": [
              "<div>\n",
              "<style scoped>\n",
              "    .dataframe tbody tr th:only-of-type {\n",
              "        vertical-align: middle;\n",
              "    }\n",
              "\n",
              "    .dataframe tbody tr th {\n",
              "        vertical-align: top;\n",
              "    }\n",
              "\n",
              "    .dataframe thead th {\n",
              "        text-align: right;\n",
              "    }\n",
              "</style>\n",
              "<table border=\"1\" class=\"dataframe\">\n",
              "  <thead>\n",
              "    <tr style=\"text-align: right;\">\n",
              "      <th></th>\n",
              "      <th>Acquisition Date</th>\n",
              "      <th>Quantity</th>\n",
              "      <th>Unit Cost</th>\n",
              "      <th>Cost Basis</th>\n",
              "      <th>Start of Year</th>\n",
              "      <th>Date</th>\n",
              "      <th>Adj Close</th>\n",
              "    </tr>\n",
              "    <tr>\n",
              "      <th>Ticker</th>\n",
              "      <th></th>\n",
              "      <th></th>\n",
              "      <th></th>\n",
              "      <th></th>\n",
              "      <th></th>\n",
              "      <th></th>\n",
              "      <th></th>\n",
              "    </tr>\n",
              "  </thead>\n",
              "  <tbody>\n",
              "    <tr>\n",
              "      <th>AAPL</th>\n",
              "      <td>2013-02-07</td>\n",
              "      <td>125</td>\n",
              "      <td>65.40</td>\n",
              "      <td>8,175.00</td>\n",
              "      <td>12/29/17</td>\n",
              "      <td>2020-06-05</td>\n",
              "      <td>331.500000</td>\n",
              "    </tr>\n",
              "    <tr>\n",
              "      <th>JNJ</th>\n",
              "      <td>2014-02-27</td>\n",
              "      <td>100</td>\n",
              "      <td>81.90</td>\n",
              "      <td>8,190.00</td>\n",
              "      <td>12/29/17</td>\n",
              "      <td>2020-06-05</td>\n",
              "      <td>147.300003</td>\n",
              "    </tr>\n",
              "    <tr>\n",
              "      <th>MCD</th>\n",
              "      <td>2013-06-04</td>\n",
              "      <td>100</td>\n",
              "      <td>84.99</td>\n",
              "      <td>8,499.00</td>\n",
              "      <td>12/29/17</td>\n",
              "      <td>2020-06-05</td>\n",
              "      <td>197.160004</td>\n",
              "    </tr>\n",
              "    <tr>\n",
              "      <th>MTCH</th>\n",
              "      <td>2015-12-14</td>\n",
              "      <td>600</td>\n",
              "      <td>13.63</td>\n",
              "      <td>8,178.00</td>\n",
              "      <td>12/29/17</td>\n",
              "      <td>2020-06-05</td>\n",
              "      <td>90.089996</td>\n",
              "    </tr>\n",
              "    <tr>\n",
              "      <th>NFLX</th>\n",
              "      <td>2016-01-14</td>\n",
              "      <td>75</td>\n",
              "      <td>108.71</td>\n",
              "      <td>8,153.25</td>\n",
              "      <td>12/29/17</td>\n",
              "      <td>2020-06-05</td>\n",
              "      <td>419.600006</td>\n",
              "    </tr>\n",
              "    <tr>\n",
              "      <th>WMT</th>\n",
              "      <td>2013-08-14</td>\n",
              "      <td>125</td>\n",
              "      <td>68.30</td>\n",
              "      <td>8,537.50</td>\n",
              "      <td>12/29/17</td>\n",
              "      <td>2020-06-05</td>\n",
              "      <td>121.559998</td>\n",
              "    </tr>\n",
              "    <tr>\n",
              "      <th>FB</th>\n",
              "      <td>2013-12-13</td>\n",
              "      <td>150</td>\n",
              "      <td>53.32</td>\n",
              "      <td>7,998.00</td>\n",
              "      <td>12/29/17</td>\n",
              "      <td>2020-06-05</td>\n",
              "      <td>230.770004</td>\n",
              "    </tr>\n",
              "    <tr>\n",
              "      <th>TWTR</th>\n",
              "      <td>2015-01-05</td>\n",
              "      <td>225</td>\n",
              "      <td>36.38</td>\n",
              "      <td>8,185.50</td>\n",
              "      <td>12/29/17</td>\n",
              "      <td>2020-06-05</td>\n",
              "      <td>34.869999</td>\n",
              "    </tr>\n",
              "  </tbody>\n",
              "</table>\n",
              "</div>"
            ]
          },
          "metadata": {
            "tags": []
          },
          "execution_count": 19
        }
      ]
    },
    {
      "cell_type": "code",
      "metadata": {
        "id": "t3XAUV163b4j",
        "colab_type": "code",
        "colab": {
          "base_uri": "https://localhost:8080/",
          "height": 328
        },
        "outputId": "d30648fb-2fed-485e-ab53-b93f6e859640"
      },
      "source": [
        "# The below creates a new column which is the ticker return; takes the latest adjusted close for each position\n",
        "# and divides that by the initial share cost.\n",
        "\n",
        "merged_portfolio['ticker return'] = merged_portfolio['Adj Close'] / merged_portfolio['Unit Cost'] - 1\n",
        "\n",
        "merged_portfolio"
      ],
      "execution_count": 20,
      "outputs": [
        {
          "output_type": "execute_result",
          "data": {
            "text/plain": [
              "       Acquisition Date  Quantity  ...   Adj Close ticker return\n",
              "Ticker                             ...                          \n",
              "AAPL         2013-02-07       125  ...  331.500000      4.068807\n",
              "JNJ          2014-02-27       100  ...  147.300003      0.798535\n",
              "MCD          2013-06-04       100  ...  197.160004      1.319802\n",
              "MTCH         2015-12-14       600  ...   90.089996      5.609684\n",
              "NFLX         2016-01-14        75  ...  419.600006      2.859811\n",
              "WMT          2013-08-14       125  ...  121.559998      0.779795\n",
              "FB           2013-12-13       150  ...  230.770004      3.328020\n",
              "TWTR         2015-01-05       225  ...   34.869999     -0.041506\n",
              "\n",
              "[8 rows x 8 columns]"
            ],
            "text/html": [
              "<div>\n",
              "<style scoped>\n",
              "    .dataframe tbody tr th:only-of-type {\n",
              "        vertical-align: middle;\n",
              "    }\n",
              "\n",
              "    .dataframe tbody tr th {\n",
              "        vertical-align: top;\n",
              "    }\n",
              "\n",
              "    .dataframe thead th {\n",
              "        text-align: right;\n",
              "    }\n",
              "</style>\n",
              "<table border=\"1\" class=\"dataframe\">\n",
              "  <thead>\n",
              "    <tr style=\"text-align: right;\">\n",
              "      <th></th>\n",
              "      <th>Acquisition Date</th>\n",
              "      <th>Quantity</th>\n",
              "      <th>Unit Cost</th>\n",
              "      <th>Cost Basis</th>\n",
              "      <th>Start of Year</th>\n",
              "      <th>Date</th>\n",
              "      <th>Adj Close</th>\n",
              "      <th>ticker return</th>\n",
              "    </tr>\n",
              "    <tr>\n",
              "      <th>Ticker</th>\n",
              "      <th></th>\n",
              "      <th></th>\n",
              "      <th></th>\n",
              "      <th></th>\n",
              "      <th></th>\n",
              "      <th></th>\n",
              "      <th></th>\n",
              "      <th></th>\n",
              "    </tr>\n",
              "  </thead>\n",
              "  <tbody>\n",
              "    <tr>\n",
              "      <th>AAPL</th>\n",
              "      <td>2013-02-07</td>\n",
              "      <td>125</td>\n",
              "      <td>65.40</td>\n",
              "      <td>8,175.00</td>\n",
              "      <td>12/29/17</td>\n",
              "      <td>2020-06-05</td>\n",
              "      <td>331.500000</td>\n",
              "      <td>4.068807</td>\n",
              "    </tr>\n",
              "    <tr>\n",
              "      <th>JNJ</th>\n",
              "      <td>2014-02-27</td>\n",
              "      <td>100</td>\n",
              "      <td>81.90</td>\n",
              "      <td>8,190.00</td>\n",
              "      <td>12/29/17</td>\n",
              "      <td>2020-06-05</td>\n",
              "      <td>147.300003</td>\n",
              "      <td>0.798535</td>\n",
              "    </tr>\n",
              "    <tr>\n",
              "      <th>MCD</th>\n",
              "      <td>2013-06-04</td>\n",
              "      <td>100</td>\n",
              "      <td>84.99</td>\n",
              "      <td>8,499.00</td>\n",
              "      <td>12/29/17</td>\n",
              "      <td>2020-06-05</td>\n",
              "      <td>197.160004</td>\n",
              "      <td>1.319802</td>\n",
              "    </tr>\n",
              "    <tr>\n",
              "      <th>MTCH</th>\n",
              "      <td>2015-12-14</td>\n",
              "      <td>600</td>\n",
              "      <td>13.63</td>\n",
              "      <td>8,178.00</td>\n",
              "      <td>12/29/17</td>\n",
              "      <td>2020-06-05</td>\n",
              "      <td>90.089996</td>\n",
              "      <td>5.609684</td>\n",
              "    </tr>\n",
              "    <tr>\n",
              "      <th>NFLX</th>\n",
              "      <td>2016-01-14</td>\n",
              "      <td>75</td>\n",
              "      <td>108.71</td>\n",
              "      <td>8,153.25</td>\n",
              "      <td>12/29/17</td>\n",
              "      <td>2020-06-05</td>\n",
              "      <td>419.600006</td>\n",
              "      <td>2.859811</td>\n",
              "    </tr>\n",
              "    <tr>\n",
              "      <th>WMT</th>\n",
              "      <td>2013-08-14</td>\n",
              "      <td>125</td>\n",
              "      <td>68.30</td>\n",
              "      <td>8,537.50</td>\n",
              "      <td>12/29/17</td>\n",
              "      <td>2020-06-05</td>\n",
              "      <td>121.559998</td>\n",
              "      <td>0.779795</td>\n",
              "    </tr>\n",
              "    <tr>\n",
              "      <th>FB</th>\n",
              "      <td>2013-12-13</td>\n",
              "      <td>150</td>\n",
              "      <td>53.32</td>\n",
              "      <td>7,998.00</td>\n",
              "      <td>12/29/17</td>\n",
              "      <td>2020-06-05</td>\n",
              "      <td>230.770004</td>\n",
              "      <td>3.328020</td>\n",
              "    </tr>\n",
              "    <tr>\n",
              "      <th>TWTR</th>\n",
              "      <td>2015-01-05</td>\n",
              "      <td>225</td>\n",
              "      <td>36.38</td>\n",
              "      <td>8,185.50</td>\n",
              "      <td>12/29/17</td>\n",
              "      <td>2020-06-05</td>\n",
              "      <td>34.869999</td>\n",
              "      <td>-0.041506</td>\n",
              "    </tr>\n",
              "  </tbody>\n",
              "</table>\n",
              "</div>"
            ]
          },
          "metadata": {
            "tags": []
          },
          "execution_count": 20
        }
      ]
    },
    {
      "cell_type": "code",
      "metadata": {
        "id": "E_TcMmHm3b4m",
        "colab_type": "code",
        "colab": {}
      },
      "source": [
        "merged_portfolio.reset_index(inplace=True)"
      ],
      "execution_count": 21,
      "outputs": []
    },
    {
      "cell_type": "code",
      "metadata": {
        "id": "aTRNaxObBcPT",
        "colab_type": "code",
        "colab": {
          "base_uri": "https://localhost:8080/",
          "height": 34
        },
        "outputId": "09d2a1ee-3994-4fea-a9d4-77cd1d0bfe0b"
      },
      "source": [
        "type(merged_portfolio['Acquisition Date'][1])"
      ],
      "execution_count": 22,
      "outputs": [
        {
          "output_type": "execute_result",
          "data": {
            "text/plain": [
              "pandas._libs.tslibs.timestamps.Timestamp"
            ]
          },
          "metadata": {
            "tags": []
          },
          "execution_count": 22
        }
      ]
    },
    {
      "cell_type": "code",
      "metadata": {
        "id": "-cU5jHFj3b4p",
        "colab_type": "code",
        "colab": {
          "base_uri": "https://localhost:8080/",
          "height": 204
        },
        "outputId": "ccc83ed5-986b-4dd3-e89e-179390bc42f9"
      },
      "source": [
        "# Here we are merging the new dataframe with the sp500 adjusted closes since the sp start price based on \n",
        "# each ticker's acquisition date and sp500 close date.\n",
        "\n",
        "merged_portfolio_sp = pd.merge(merged_portfolio, sp_500_adj_close, left_on='Acquisition Date', right_on='Date')\n",
        "# .set_index('Ticker')\n",
        "\n",
        "merged_portfolio_sp.head()"
      ],
      "execution_count": 23,
      "outputs": [
        {
          "output_type": "execute_result",
          "data": {
            "text/plain": [
              "  Ticker Acquisition Date  Quantity  ...  ticker return     Date_y  Adj Close_y\n",
              "0   AAPL       2013-02-07       125  ...       4.068807 2013-02-07  1509.390015\n",
              "1    JNJ       2014-02-27       100  ...       0.798535 2014-02-27  1854.290039\n",
              "2    MCD       2013-06-04       100  ...       1.319802 2013-06-04  1631.380005\n",
              "3   MTCH       2015-12-14       600  ...       5.609684 2015-12-14  2021.939941\n",
              "4   NFLX       2016-01-14        75  ...       2.859811 2016-01-14  1921.839966\n",
              "\n",
              "[5 rows x 11 columns]"
            ],
            "text/html": [
              "<div>\n",
              "<style scoped>\n",
              "    .dataframe tbody tr th:only-of-type {\n",
              "        vertical-align: middle;\n",
              "    }\n",
              "\n",
              "    .dataframe tbody tr th {\n",
              "        vertical-align: top;\n",
              "    }\n",
              "\n",
              "    .dataframe thead th {\n",
              "        text-align: right;\n",
              "    }\n",
              "</style>\n",
              "<table border=\"1\" class=\"dataframe\">\n",
              "  <thead>\n",
              "    <tr style=\"text-align: right;\">\n",
              "      <th></th>\n",
              "      <th>Ticker</th>\n",
              "      <th>Acquisition Date</th>\n",
              "      <th>Quantity</th>\n",
              "      <th>Unit Cost</th>\n",
              "      <th>Cost Basis</th>\n",
              "      <th>Start of Year</th>\n",
              "      <th>Date_x</th>\n",
              "      <th>Adj Close_x</th>\n",
              "      <th>ticker return</th>\n",
              "      <th>Date_y</th>\n",
              "      <th>Adj Close_y</th>\n",
              "    </tr>\n",
              "  </thead>\n",
              "  <tbody>\n",
              "    <tr>\n",
              "      <th>0</th>\n",
              "      <td>AAPL</td>\n",
              "      <td>2013-02-07</td>\n",
              "      <td>125</td>\n",
              "      <td>65.40</td>\n",
              "      <td>8,175.00</td>\n",
              "      <td>12/29/17</td>\n",
              "      <td>2020-06-05</td>\n",
              "      <td>331.500000</td>\n",
              "      <td>4.068807</td>\n",
              "      <td>2013-02-07</td>\n",
              "      <td>1509.390015</td>\n",
              "    </tr>\n",
              "    <tr>\n",
              "      <th>1</th>\n",
              "      <td>JNJ</td>\n",
              "      <td>2014-02-27</td>\n",
              "      <td>100</td>\n",
              "      <td>81.90</td>\n",
              "      <td>8,190.00</td>\n",
              "      <td>12/29/17</td>\n",
              "      <td>2020-06-05</td>\n",
              "      <td>147.300003</td>\n",
              "      <td>0.798535</td>\n",
              "      <td>2014-02-27</td>\n",
              "      <td>1854.290039</td>\n",
              "    </tr>\n",
              "    <tr>\n",
              "      <th>2</th>\n",
              "      <td>MCD</td>\n",
              "      <td>2013-06-04</td>\n",
              "      <td>100</td>\n",
              "      <td>84.99</td>\n",
              "      <td>8,499.00</td>\n",
              "      <td>12/29/17</td>\n",
              "      <td>2020-06-05</td>\n",
              "      <td>197.160004</td>\n",
              "      <td>1.319802</td>\n",
              "      <td>2013-06-04</td>\n",
              "      <td>1631.380005</td>\n",
              "    </tr>\n",
              "    <tr>\n",
              "      <th>3</th>\n",
              "      <td>MTCH</td>\n",
              "      <td>2015-12-14</td>\n",
              "      <td>600</td>\n",
              "      <td>13.63</td>\n",
              "      <td>8,178.00</td>\n",
              "      <td>12/29/17</td>\n",
              "      <td>2020-06-05</td>\n",
              "      <td>90.089996</td>\n",
              "      <td>5.609684</td>\n",
              "      <td>2015-12-14</td>\n",
              "      <td>2021.939941</td>\n",
              "    </tr>\n",
              "    <tr>\n",
              "      <th>4</th>\n",
              "      <td>NFLX</td>\n",
              "      <td>2016-01-14</td>\n",
              "      <td>75</td>\n",
              "      <td>108.71</td>\n",
              "      <td>8,153.25</td>\n",
              "      <td>12/29/17</td>\n",
              "      <td>2020-06-05</td>\n",
              "      <td>419.600006</td>\n",
              "      <td>2.859811</td>\n",
              "      <td>2016-01-14</td>\n",
              "      <td>1921.839966</td>\n",
              "    </tr>\n",
              "  </tbody>\n",
              "</table>\n",
              "</div>"
            ]
          },
          "metadata": {
            "tags": []
          },
          "execution_count": 23
        }
      ]
    },
    {
      "cell_type": "code",
      "metadata": {
        "id": "ecw6NI3t3b4s",
        "colab_type": "code",
        "colab": {
          "base_uri": "https://localhost:8080/",
          "height": 204
        },
        "outputId": "fd16f816-5b98-47e3-b9be-bcc0887c6feb"
      },
      "source": [
        "# We will delete the additional date column which is created from this merge.\n",
        "# We then rename columns to Latest Date and then reflect Ticker Adj Close and SP 500 Initial Close.\n",
        "\n",
        "del merged_portfolio_sp['Date_y']\n",
        "\n",
        "merged_portfolio_sp.rename(columns={'Date_x': 'Latest Date', 'Adj Close_x': 'Ticker Adj Close'\n",
        "                                    , 'Adj Close_y': 'SP 500 Initial Close'}, inplace=True)\n",
        "\n",
        "merged_portfolio_sp.head()"
      ],
      "execution_count": 24,
      "outputs": [
        {
          "output_type": "execute_result",
          "data": {
            "text/plain": [
              "  Ticker Acquisition Date  ...  ticker return  SP 500 Initial Close\n",
              "0   AAPL       2013-02-07  ...       4.068807           1509.390015\n",
              "1    JNJ       2014-02-27  ...       0.798535           1854.290039\n",
              "2    MCD       2013-06-04  ...       1.319802           1631.380005\n",
              "3   MTCH       2015-12-14  ...       5.609684           2021.939941\n",
              "4   NFLX       2016-01-14  ...       2.859811           1921.839966\n",
              "\n",
              "[5 rows x 10 columns]"
            ],
            "text/html": [
              "<div>\n",
              "<style scoped>\n",
              "    .dataframe tbody tr th:only-of-type {\n",
              "        vertical-align: middle;\n",
              "    }\n",
              "\n",
              "    .dataframe tbody tr th {\n",
              "        vertical-align: top;\n",
              "    }\n",
              "\n",
              "    .dataframe thead th {\n",
              "        text-align: right;\n",
              "    }\n",
              "</style>\n",
              "<table border=\"1\" class=\"dataframe\">\n",
              "  <thead>\n",
              "    <tr style=\"text-align: right;\">\n",
              "      <th></th>\n",
              "      <th>Ticker</th>\n",
              "      <th>Acquisition Date</th>\n",
              "      <th>Quantity</th>\n",
              "      <th>Unit Cost</th>\n",
              "      <th>Cost Basis</th>\n",
              "      <th>Start of Year</th>\n",
              "      <th>Latest Date</th>\n",
              "      <th>Ticker Adj Close</th>\n",
              "      <th>ticker return</th>\n",
              "      <th>SP 500 Initial Close</th>\n",
              "    </tr>\n",
              "  </thead>\n",
              "  <tbody>\n",
              "    <tr>\n",
              "      <th>0</th>\n",
              "      <td>AAPL</td>\n",
              "      <td>2013-02-07</td>\n",
              "      <td>125</td>\n",
              "      <td>65.40</td>\n",
              "      <td>8,175.00</td>\n",
              "      <td>12/29/17</td>\n",
              "      <td>2020-06-05</td>\n",
              "      <td>331.500000</td>\n",
              "      <td>4.068807</td>\n",
              "      <td>1509.390015</td>\n",
              "    </tr>\n",
              "    <tr>\n",
              "      <th>1</th>\n",
              "      <td>JNJ</td>\n",
              "      <td>2014-02-27</td>\n",
              "      <td>100</td>\n",
              "      <td>81.90</td>\n",
              "      <td>8,190.00</td>\n",
              "      <td>12/29/17</td>\n",
              "      <td>2020-06-05</td>\n",
              "      <td>147.300003</td>\n",
              "      <td>0.798535</td>\n",
              "      <td>1854.290039</td>\n",
              "    </tr>\n",
              "    <tr>\n",
              "      <th>2</th>\n",
              "      <td>MCD</td>\n",
              "      <td>2013-06-04</td>\n",
              "      <td>100</td>\n",
              "      <td>84.99</td>\n",
              "      <td>8,499.00</td>\n",
              "      <td>12/29/17</td>\n",
              "      <td>2020-06-05</td>\n",
              "      <td>197.160004</td>\n",
              "      <td>1.319802</td>\n",
              "      <td>1631.380005</td>\n",
              "    </tr>\n",
              "    <tr>\n",
              "      <th>3</th>\n",
              "      <td>MTCH</td>\n",
              "      <td>2015-12-14</td>\n",
              "      <td>600</td>\n",
              "      <td>13.63</td>\n",
              "      <td>8,178.00</td>\n",
              "      <td>12/29/17</td>\n",
              "      <td>2020-06-05</td>\n",
              "      <td>90.089996</td>\n",
              "      <td>5.609684</td>\n",
              "      <td>2021.939941</td>\n",
              "    </tr>\n",
              "    <tr>\n",
              "      <th>4</th>\n",
              "      <td>NFLX</td>\n",
              "      <td>2016-01-14</td>\n",
              "      <td>75</td>\n",
              "      <td>108.71</td>\n",
              "      <td>8,153.25</td>\n",
              "      <td>12/29/17</td>\n",
              "      <td>2020-06-05</td>\n",
              "      <td>419.600006</td>\n",
              "      <td>2.859811</td>\n",
              "      <td>1921.839966</td>\n",
              "    </tr>\n",
              "  </tbody>\n",
              "</table>\n",
              "</div>"
            ]
          },
          "metadata": {
            "tags": []
          },
          "execution_count": 24
        }
      ]
    },
    {
      "cell_type": "code",
      "metadata": {
        "id": "5x6M839b3b4u",
        "colab_type": "code",
        "colab": {
          "base_uri": "https://localhost:8080/",
          "height": 375
        },
        "outputId": "f591fb7c-60b6-47e4-935b-dfe315f59c2b"
      },
      "source": [
        "# This new column determines what SP 500 equivalent purchase would have been at purchase date of stock.\n",
        "merged_portfolio_sp['Equiv SP Shares'] = merged_portfolio_sp['Cost Basis'] / merged_portfolio_sp['SP 500 Initial Close']\n",
        "merged_portfolio_sp.head()"
      ],
      "execution_count": 25,
      "outputs": [
        {
          "output_type": "error",
          "ename": "TypeError",
          "evalue": "ignored",
          "traceback": [
            "\u001b[0;31m\u001b[0m",
            "\u001b[0;31mTypeError\u001b[0mTraceback (most recent call last)",
            "\u001b[0;32m<ipython-input-25-205d807c4737>\u001b[0m in \u001b[0;36m<module>\u001b[0;34m()\u001b[0m\n\u001b[1;32m      1\u001b[0m \u001b[0;31m# This new column determines what SP 500 equivalent purchase would have been at purchase date of stock.\u001b[0m\u001b[0;34m\u001b[0m\u001b[0;34m\u001b[0m\u001b[0m\n\u001b[0;32m----> 2\u001b[0;31m \u001b[0mmerged_portfolio_sp\u001b[0m\u001b[0;34m[\u001b[0m\u001b[0;34m'Equiv SP Shares'\u001b[0m\u001b[0;34m]\u001b[0m \u001b[0;34m=\u001b[0m \u001b[0mmerged_portfolio_sp\u001b[0m\u001b[0;34m[\u001b[0m\u001b[0;34m'Cost Basis'\u001b[0m\u001b[0;34m]\u001b[0m \u001b[0;34m/\u001b[0m \u001b[0mmerged_portfolio_sp\u001b[0m\u001b[0;34m[\u001b[0m\u001b[0;34m'SP 500 Initial Close'\u001b[0m\u001b[0;34m]\u001b[0m\u001b[0;34m\u001b[0m\u001b[0m\n\u001b[0m\u001b[1;32m      3\u001b[0m \u001b[0mmerged_portfolio_sp\u001b[0m\u001b[0;34m.\u001b[0m\u001b[0mhead\u001b[0m\u001b[0;34m(\u001b[0m\u001b[0;34m)\u001b[0m\u001b[0;34m\u001b[0m\u001b[0m\n",
            "\u001b[0;32m/usr/local/lib/python2.7/dist-packages/pandas/core/ops.pyc\u001b[0m in \u001b[0;36mwrapper\u001b[0;34m(left, right)\u001b[0m\n\u001b[1;32m   1581\u001b[0m             \u001b[0mrvalues\u001b[0m \u001b[0;34m=\u001b[0m \u001b[0mrvalues\u001b[0m\u001b[0;34m.\u001b[0m\u001b[0mvalues\u001b[0m\u001b[0;34m\u001b[0m\u001b[0m\n\u001b[1;32m   1582\u001b[0m \u001b[0;34m\u001b[0m\u001b[0m\n\u001b[0;32m-> 1583\u001b[0;31m         \u001b[0mresult\u001b[0m \u001b[0;34m=\u001b[0m \u001b[0msafe_na_op\u001b[0m\u001b[0;34m(\u001b[0m\u001b[0mlvalues\u001b[0m\u001b[0;34m,\u001b[0m \u001b[0mrvalues\u001b[0m\u001b[0;34m)\u001b[0m\u001b[0;34m\u001b[0m\u001b[0m\n\u001b[0m\u001b[1;32m   1584\u001b[0m         return construct_result(left, result,\n\u001b[1;32m   1585\u001b[0m                                 index=left.index, name=res_name, dtype=None)\n",
            "\u001b[0;32m/usr/local/lib/python2.7/dist-packages/pandas/core/ops.pyc\u001b[0m in \u001b[0;36msafe_na_op\u001b[0;34m(lvalues, rvalues)\u001b[0m\n\u001b[1;32m   1531\u001b[0m             \u001b[0;32mif\u001b[0m \u001b[0mis_object_dtype\u001b[0m\u001b[0;34m(\u001b[0m\u001b[0mlvalues\u001b[0m\u001b[0;34m)\u001b[0m\u001b[0;34m:\u001b[0m\u001b[0;34m\u001b[0m\u001b[0m\n\u001b[1;32m   1532\u001b[0m                 return libalgos.arrmap_object(lvalues,\n\u001b[0;32m-> 1533\u001b[0;31m                                               lambda x: op(x, rvalues))\n\u001b[0m\u001b[1;32m   1534\u001b[0m             \u001b[0;32mraise\u001b[0m\u001b[0;34m\u001b[0m\u001b[0m\n\u001b[1;32m   1535\u001b[0m \u001b[0;34m\u001b[0m\u001b[0m\n",
            "\u001b[0;32mpandas/_libs/algos.pyx\u001b[0m in \u001b[0;36mpandas._libs.algos.arrmap\u001b[0;34m()\u001b[0m\n",
            "\u001b[0;32m/usr/local/lib/python2.7/dist-packages/pandas/core/ops.pyc\u001b[0m in \u001b[0;36m<lambda>\u001b[0;34m(x)\u001b[0m\n\u001b[1;32m   1531\u001b[0m             \u001b[0;32mif\u001b[0m \u001b[0mis_object_dtype\u001b[0m\u001b[0;34m(\u001b[0m\u001b[0mlvalues\u001b[0m\u001b[0;34m)\u001b[0m\u001b[0;34m:\u001b[0m\u001b[0;34m\u001b[0m\u001b[0m\n\u001b[1;32m   1532\u001b[0m                 return libalgos.arrmap_object(lvalues,\n\u001b[0;32m-> 1533\u001b[0;31m                                               lambda x: op(x, rvalues))\n\u001b[0m\u001b[1;32m   1534\u001b[0m             \u001b[0;32mraise\u001b[0m\u001b[0;34m\u001b[0m\u001b[0m\n\u001b[1;32m   1535\u001b[0m \u001b[0;34m\u001b[0m\u001b[0m\n",
            "\u001b[0;31mTypeError\u001b[0m: ufunc 'true_divide' not supported for the input types, and the inputs could not be safely coerced to any supported types according to the casting rule ''safe''"
          ]
        }
      ]
    },
    {
      "cell_type": "code",
      "metadata": {
        "id": "808GoYwU3b4y",
        "colab_type": "code",
        "colab": {}
      },
      "source": [
        "# We are joining the developing dataframe with the sp500 closes again, this time with the latest close for SP.\n",
        "merged_portfolio_sp_latest = pd.merge(merged_portfolio_sp, sp_500_adj_close, left_on='Latest Date', right_on='Date')\n",
        "\n",
        "merged_portfolio_sp_latest.head()"
      ],
      "execution_count": null,
      "outputs": []
    },
    {
      "cell_type": "code",
      "metadata": {
        "id": "uqYoIR8Z3b44",
        "colab_type": "code",
        "colab": {}
      },
      "source": [
        "# Once again need to delete the new Date column added as it's redundant to Latest Date.  \n",
        "# Modify Adj Close from the sp dataframe to distinguish it by calling it the SP 500 Latest Close.\n",
        "\n",
        "del merged_portfolio_sp_latest['Date']\n",
        "\n",
        "merged_portfolio_sp_latest.rename(columns={'Adj Close': 'SP 500 Latest Close'}, inplace=True)\n",
        "\n",
        "merged_portfolio_sp_latest.head()"
      ],
      "execution_count": null,
      "outputs": []
    },
    {
      "cell_type": "code",
      "metadata": {
        "id": "QCk6fmlO3b47",
        "colab_type": "code",
        "colab": {}
      },
      "source": [
        "# Percent return of SP from acquisition date of position through latest trading day.\n",
        "merged_portfolio_sp_latest['SP Return'] = merged_portfolio_sp_latest['SP 500 Latest Close'] / merged_portfolio_sp_latest['SP 500 Initial Close'] - 1\n",
        "\n",
        "# This is a new column which takes the tickers return and subtracts the sp 500 equivalent range return.\n",
        "merged_portfolio_sp_latest['Abs. Return Compare'] = merged_portfolio_sp_latest['ticker return'] - merged_portfolio_sp_latest['SP Return']\n",
        "\n",
        "# This is a new column where we calculate the ticker's share value by multiplying the original quantity by the latest close.\n",
        "merged_portfolio_sp_latest['Ticker Share Value'] = merged_portfolio_sp_latest['Quantity'] * merged_portfolio_sp_latest['Ticker Adj Close']\n",
        "\n",
        "# We calculate the equivalent SP 500 Value if we take the original SP shares * the latest SP 500 share price.\n",
        "merged_portfolio_sp_latest['SP 500 Value'] = merged_portfolio_sp_latest['Equiv SP Shares'] * merged_portfolio_sp_latest['SP 500 Latest Close']\n",
        "\n",
        "# This is a new column where we take the current market value for the shares and subtract the SP 500 value.\n",
        "merged_portfolio_sp_latest['Abs Value Compare'] = merged_portfolio_sp_latest['Ticker Share Value'] - merged_portfolio_sp_latest['SP 500 Value']\n",
        "\n",
        "# This column calculates profit / loss for stock position.\n",
        "merged_portfolio_sp_latest['Stock Gain / (Loss)'] = merged_portfolio_sp_latest['Ticker Share Value'] - merged_portfolio_sp_latest['Cost Basis']\n",
        "\n",
        "# This column calculates profit / loss for SP 500.\n",
        "merged_portfolio_sp_latest['SP 500 Gain / (Loss)'] = merged_portfolio_sp_latest['SP 500 Value'] - merged_portfolio_sp_latest['Cost Basis']\n",
        "\n",
        "merged_portfolio_sp_latest.head()"
      ],
      "execution_count": null,
      "outputs": []
    },
    {
      "cell_type": "code",
      "metadata": {
        "id": "OhEzEekf3b4-",
        "colab_type": "code",
        "colab": {}
      },
      "source": [
        "# Merge the overall dataframe with the adj close start of year dataframe for YTD tracking of tickers.\n",
        "# Should not need to do the outer join;\n",
        "\n",
        "merged_portfolio_sp_latest_YTD = pd.merge(merged_portfolio_sp_latest, adj_close_start, on='Ticker')\n",
        "# , how='outer'\n",
        "\n",
        "merged_portfolio_sp_latest_YTD.head()"
      ],
      "execution_count": null,
      "outputs": []
    },
    {
      "cell_type": "code",
      "metadata": {
        "id": "BEDuZTTe3b5A",
        "colab_type": "code",
        "colab": {}
      },
      "source": [
        "# Deleting date again as it's an unnecessary column.  Explaining that new column is the Ticker Start of Year Close.\n",
        "\n",
        "del merged_portfolio_sp_latest_YTD['Date']\n",
        "\n",
        "merged_portfolio_sp_latest_YTD.rename(columns={'Adj Close': 'Ticker Start Year Close'}, inplace=True)\n",
        "\n",
        "merged_portfolio_sp_latest_YTD.head()"
      ],
      "execution_count": null,
      "outputs": []
    },
    {
      "cell_type": "code",
      "metadata": {
        "id": "uJgiXElc3b5D",
        "colab_type": "code",
        "colab": {}
      },
      "source": [
        "# Join the SP 500 start of year with current dataframe for SP 500 ytd comparisons to tickers.\n",
        "\n",
        "merged_portfolio_sp_latest_YTD_sp = pd.merge(merged_portfolio_sp_latest_YTD, sp_500_adj_close_start\n",
        "                                             , left_on='Start of Year', right_on='Date')\n",
        "\n",
        "merged_portfolio_sp_latest_YTD_sp.head()"
      ],
      "execution_count": null,
      "outputs": []
    },
    {
      "cell_type": "code",
      "metadata": {
        "id": "aTUkvYjQ3b5H",
        "colab_type": "code",
        "colab": {}
      },
      "source": [
        "# Deleting another unneeded Date column.\n",
        "\n",
        "del merged_portfolio_sp_latest_YTD_sp['Date']\n",
        "\n",
        "# Renaming so that it's clear this column is SP 500 start of year close.\n",
        "merged_portfolio_sp_latest_YTD_sp.rename(columns={'Adj Close': 'SP Start Year Close'}, inplace=True)\n",
        "\n",
        "# YTD return for portfolio position.\n",
        "merged_portfolio_sp_latest_YTD_sp['Share YTD'] = merged_portfolio_sp_latest_YTD_sp['Ticker Adj Close'] / merged_portfolio_sp_latest_YTD_sp['Ticker Start Year Close'] - 1\n",
        "\n",
        "# YTD return for SP to run compares.\n",
        "merged_portfolio_sp_latest_YTD_sp['SP 500 YTD'] = merged_portfolio_sp_latest_YTD_sp['SP 500 Latest Close'] / merged_portfolio_sp_latest_YTD_sp['SP Start Year Close'] - 1\n",
        "\n",
        "merged_portfolio_sp_latest_YTD_sp.head()"
      ],
      "execution_count": null,
      "outputs": []
    },
    {
      "cell_type": "code",
      "metadata": {
        "id": "k6RZifte3b5L",
        "colab_type": "code",
        "colab": {}
      },
      "source": [
        "merged_portfolio_sp_latest_YTD_sp = merged_portfolio_sp_latest_YTD_sp.sort_values(by='Ticker', ascending=True)\n",
        "merged_portfolio_sp_latest_YTD_sp"
      ],
      "execution_count": null,
      "outputs": []
    },
    {
      "cell_type": "code",
      "metadata": {
        "id": "xG_ODwTl3b5O",
        "colab_type": "code",
        "colab": {}
      },
      "source": [
        "# Cumulative sum of original investment\n",
        "merged_portfolio_sp_latest_YTD_sp['Cum Invst'] = merged_portfolio_sp_latest_YTD_sp['Cost Basis'].cumsum()\n",
        "\n",
        "# Cumulative sum of Ticker Share Value (latest FMV based on initial quantity purchased).\n",
        "merged_portfolio_sp_latest_YTD_sp['Cum Ticker Returns'] = merged_portfolio_sp_latest_YTD_sp['Ticker Share Value'].cumsum()\n",
        "\n",
        "# Cumulative sum of SP Share Value (latest FMV driven off of initial SP equiv purchase).\n",
        "merged_portfolio_sp_latest_YTD_sp['Cum SP Returns'] = merged_portfolio_sp_latest_YTD_sp['SP 500 Value'].cumsum()\n",
        "\n",
        "# Cumulative CoC multiple return for stock investments\n",
        "merged_portfolio_sp_latest_YTD_sp['Cum Ticker ROI Mult'] = merged_portfolio_sp_latest_YTD_sp['Cum Ticker Returns'] / merged_portfolio_sp_latest_YTD_sp['Cum Invst']\n",
        "\n",
        "merged_portfolio_sp_latest_YTD_sp.head()\n"
      ],
      "execution_count": null,
      "outputs": []
    },
    {
      "cell_type": "markdown",
      "metadata": {
        "id": "QJ-7R9Hk3b5Q",
        "colab_type": "text"
      },
      "source": [
        "## Assessing Where Positions are At versus Highest Close"
      ]
    },
    {
      "cell_type": "code",
      "metadata": {
        "id": "2LYSwNUS3b5R",
        "colab_type": "code",
        "colab": {}
      },
      "source": [
        "# Referencing the adj_close dataframe from above\n",
        "\n",
        "adj_close.head()"
      ],
      "execution_count": null,
      "outputs": []
    },
    {
      "cell_type": "code",
      "metadata": {
        "id": "KV3B3KCY3b5Y",
        "colab_type": "code",
        "colab": {}
      },
      "source": [
        "portfolio_df.head()"
      ],
      "execution_count": null,
      "outputs": []
    },
    {
      "cell_type": "code",
      "metadata": {
        "id": "q3mti8PU3b5a",
        "colab_type": "code",
        "colab": {}
      },
      "source": [
        "# Need to factor in that some positions were purchased much more recently than others.\n",
        "# Join adj_close dataframe with portfolio in order to have acquisition date.\n",
        "\n",
        "portfolio_df.reset_index(inplace=True)\n",
        "\n",
        "adj_close_acq_date = pd.merge(adj_close, portfolio_df, on='Ticker')\n",
        "\n",
        "adj_close_acq_date.head()"
      ],
      "execution_count": null,
      "outputs": []
    },
    {
      "cell_type": "code",
      "metadata": {
        "id": "ip3JQWtm3b5d",
        "colab_type": "code",
        "colab": {}
      },
      "source": [
        "# delete_columns = ['Quantity', 'Unit Cost', 'Cost Basis', 'Start of Year']\n",
        "\n",
        "del adj_close_acq_date['Quantity']\n",
        "del adj_close_acq_date['Unit Cost']\n",
        "del adj_close_acq_date['Cost Basis']\n",
        "del adj_close_acq_date['Start of Year']\n",
        "\n",
        "# Sort by these columns in this order in order to make it clearer where compare for each position should begin.\n",
        "adj_close_acq_date.sort_values(by=['Ticker', 'Acquisition Date', 'Date'], ascending=[True, True, True], inplace=True)"
      ],
      "execution_count": null,
      "outputs": []
    },
    {
      "cell_type": "code",
      "metadata": {
        "id": "6rjzgNdQ3b5f",
        "colab_type": "code",
        "colab": {}
      },
      "source": [
        "# Anything less than 0 means that the stock close was prior to acquisition.\n",
        "\n",
        "adj_close_acq_date['Date Delta'] = pd.to_datetime(adj_close_acq_date['Date']) - pd.to_datetime(adj_close_acq_date['Acquisition Date'])\n",
        "\n",
        "adj_close_acq_date['Date Delta'] = adj_close_acq_date[['Date Delta']].apply(pd.to_numeric)  \n",
        "\n",
        "adj_close_acq_date.head()\n",
        "\n",
        "\n"
      ],
      "execution_count": null,
      "outputs": []
    },
    {
      "cell_type": "code",
      "metadata": {
        "id": "AhKGjAqs3b5i",
        "colab_type": "code",
        "colab": {}
      },
      "source": [
        "# Modified the dataframe being evaluated to look at highest close which occurred after Acquisition Date (aka, not prior to purchase).\n",
        "\n",
        "adj_close_acq_date_modified = adj_close_acq_date[adj_close_acq_date['Date Delta']>=0]\n",
        "\n",
        "adj_close_acq_date_modified.head()"
      ],
      "execution_count": null,
      "outputs": []
    },
    {
      "cell_type": "code",
      "metadata": {
        "id": "_iRDx_LG3b5k",
        "colab_type": "code",
        "colab": {}
      },
      "source": [
        "# This pivot table will index on the Ticker and Acquisition Date, and find the max adjusted close.\n",
        "\n",
        "adj_close_pivot = adj_close_acq_date_modified.pivot_table(index=['Ticker', 'Acquisition Date'], values='Adj Close', aggfunc=np.max)\n",
        "\n",
        "adj_close_pivot.reset_index(inplace=True)\n",
        "\n",
        "adj_close_pivot"
      ],
      "execution_count": null,
      "outputs": []
    },
    {
      "cell_type": "code",
      "metadata": {
        "id": "kHcUnf-C3b5r",
        "colab_type": "code",
        "colab": {}
      },
      "source": [
        "# Merge the adj close pivot table with the adj_close table in order to grab the date of the Adj Close High (good to know).\n",
        "\n",
        "adj_close_pivot_merged = pd.merge(adj_close_pivot, adj_close\n",
        "                                             , on=['Ticker', 'Adj Close'])\n",
        "\n",
        "adj_close_pivot_merged.head()"
      ],
      "execution_count": null,
      "outputs": []
    },
    {
      "cell_type": "code",
      "metadata": {
        "id": "Y5Ob376F3b5x",
        "colab_type": "code",
        "colab": {}
      },
      "source": [
        "# Merge the Adj Close pivot table with the master dataframe to have the closing high since you have owned the stock.\n",
        "\n",
        "merged_portfolio_sp_latest_YTD_sp_closing_high = pd.merge(merged_portfolio_sp_latest_YTD_sp, adj_close_pivot_merged\n",
        "                                             , on=['Ticker', 'Acquisition Date'])\n",
        "\n",
        "# Renaming so that it's clear that the new columns are two year closing high and two year closing high date.\n",
        "merged_portfolio_sp_latest_YTD_sp_closing_high.rename(columns={'Adj Close': 'Closing High Adj Close', 'Date': 'Closing High Adj Close Date'}, inplace=True)\n",
        "\n",
        "merged_portfolio_sp_latest_YTD_sp_closing_high['Pct off High'] = merged_portfolio_sp_latest_YTD_sp_closing_high['Ticker Adj Close'] / merged_portfolio_sp_latest_YTD_sp_closing_high['Closing High Adj Close'] - 1 \n",
        "\n",
        "merged_portfolio_sp_latest_YTD_sp_closing_high"
      ],
      "execution_count": null,
      "outputs": []
    },
    {
      "cell_type": "code",
      "metadata": {
        "id": "_zTf13BN3b52",
        "colab_type": "code",
        "colab": {}
      },
      "source": [
        "# Not needed for this blog post -- this is if you have multiple positions for the same ticker with different acquisition dates.\n",
        "# merged_portfolio_sp_latest_YTD_sp_closing_high['Counts'] = merged_portfolio_sp_latest_YTD_sp_closing_high.index\n",
        "\n",
        "# merged_portfolio_sp_latest_YTD_sp_closing_high['Ticker #'] = merged_portfolio_sp_latest_YTD_sp_closing_high['Ticker'].map(str) + ' ' + merged_portfolio_sp_latest_YTD_sp_closing_high['Counts'].map(str)\n",
        "\n",
        "# merged_portfolio_sp_latest_YTD_sp_closing_high.head()"
      ],
      "execution_count": null,
      "outputs": []
    },
    {
      "cell_type": "markdown",
      "metadata": {
        "id": "cqmcF3xR3b56",
        "colab_type": "text"
      },
      "source": [
        "## YTD and Trailing Stop Charts"
      ]
    },
    {
      "cell_type": "code",
      "metadata": {
        "id": "ddXQDPfd3b57",
        "colab_type": "code",
        "colab": {}
      },
      "source": [
        "# Ploty is an outstanding resource for interactive charts.\n",
        "\n",
        "trace1 = go.Bar(\n",
        "    x = merged_portfolio_sp_latest_YTD_sp['Ticker'][0:10],\n",
        "    y = merged_portfolio_sp_latest_YTD_sp['Share YTD'][0:10],\n",
        "    name = 'Ticker YTD')\n",
        "\n",
        "trace2 = go.Scatter(\n",
        "    x = merged_portfolio_sp_latest_YTD_sp['Ticker'][0:10],\n",
        "    y = merged_portfolio_sp_latest_YTD_sp['SP 500 YTD'][0:10],\n",
        "    name = 'SP500 YTD')\n",
        "    \n",
        "data = [trace1, trace2]\n",
        "\n",
        "layout = go.Layout(title = 'YTD Return vs S&P 500 YTD'\n",
        "    , barmode = 'group'\n",
        "    , yaxis=dict(title='Returns', tickformat=\".2%\")\n",
        "    , xaxis=dict(title='Ticker')\n",
        "    , legend=dict(x=.8,y=1)\n",
        "    )\n",
        "\n",
        "fig = go.Figure(data=data, layout=layout)\n",
        "iplot(fig)"
      ],
      "execution_count": null,
      "outputs": []
    },
    {
      "cell_type": "code",
      "metadata": {
        "id": "Pf4YkRtZ3b6A",
        "colab_type": "code",
        "colab": {}
      },
      "source": [
        "# Current Share Price versus Closing High Since Purchased\n",
        "\n",
        "trace1 = go.Bar(\n",
        "    x = merged_portfolio_sp_latest_YTD_sp_closing_high['Ticker'][0:10],\n",
        "    y = merged_portfolio_sp_latest_YTD_sp_closing_high['Pct off High'][0:10],\n",
        "    name = 'Pct off High')\n",
        "    \n",
        "data = [trace1]\n",
        "\n",
        "layout = go.Layout(title = 'Adj Close % off of High'\n",
        "    , barmode = 'group'\n",
        "    , yaxis=dict(title='% Below Adj Close High', tickformat=\".2%\")\n",
        "    , xaxis=dict(title='Ticker')\n",
        "    , legend=dict(x=.8,y=1)\n",
        "    )\n",
        "\n",
        "fig = go.Figure(data=data, layout=layout)\n",
        "iplot(fig)"
      ],
      "execution_count": null,
      "outputs": []
    },
    {
      "cell_type": "markdown",
      "metadata": {
        "id": "At1mbOe13b6E",
        "colab_type": "text"
      },
      "source": [
        "## Total Return Comparison Charts"
      ]
    },
    {
      "cell_type": "code",
      "metadata": {
        "id": "_8YPQDhW3b6F",
        "colab_type": "code",
        "colab": {}
      },
      "source": [
        "trace1 = go.Bar(\n",
        "    x = merged_portfolio_sp_latest_YTD_sp_closing_high['Ticker'][0:10],\n",
        "    y = merged_portfolio_sp_latest_YTD_sp_closing_high['ticker return'][0:10],\n",
        "    name = 'Ticker Total Return')\n",
        "\n",
        "trace2 = go.Scatter(\n",
        "    x = merged_portfolio_sp_latest_YTD_sp_closing_high['Ticker'][0:10],\n",
        "    y = merged_portfolio_sp_latest_YTD_sp_closing_high['SP Return'][0:10],\n",
        "    name = 'SP500 Total Return')\n",
        "    \n",
        "data = [trace1, trace2]\n",
        "\n",
        "layout = go.Layout(title = 'Total Return vs S&P 500'\n",
        "    , barmode = 'group'\n",
        "    , yaxis=dict(title='Returns', tickformat=\".2%\")\n",
        "    , xaxis=dict(title='Ticker', tickformat=\".2%\")\n",
        "    , legend=dict(x=.8,y=1)\n",
        "    )\n",
        "\n",
        "fig = go.Figure(data=data, layout=layout)\n",
        "iplot(fig)"
      ],
      "execution_count": null,
      "outputs": []
    },
    {
      "cell_type": "markdown",
      "metadata": {
        "collapsed": true,
        "id": "1nGttnIQ3b6J",
        "colab_type": "text"
      },
      "source": [
        "## Cumulative Returns Over Time"
      ]
    },
    {
      "cell_type": "code",
      "metadata": {
        "id": "3T87PcW-3b6J",
        "colab_type": "code",
        "colab": {}
      },
      "source": [
        "trace1 = go.Bar(\n",
        "    x = merged_portfolio_sp_latest_YTD_sp_closing_high['Ticker'][0:10],\n",
        "    y = merged_portfolio_sp_latest_YTD_sp_closing_high['Stock Gain / (Loss)'][0:10],\n",
        "    name = 'Ticker Total Return ($)')\n",
        "\n",
        "trace2 = go.Bar(\n",
        "    x = merged_portfolio_sp_latest_YTD_sp_closing_high['Ticker'][0:10],\n",
        "    y = merged_portfolio_sp_latest_YTD_sp_closing_high['SP 500 Gain / (Loss)'][0:10],\n",
        "    name = 'SP 500 Total Return ($)')\n",
        "\n",
        "trace3 = go.Scatter(\n",
        "    x = merged_portfolio_sp_latest_YTD_sp_closing_high['Ticker'][0:10],\n",
        "    y = merged_portfolio_sp_latest_YTD_sp_closing_high['ticker return'][0:10],\n",
        "    name = 'Ticker Total Return %',\n",
        "    yaxis='y2')\n",
        "\n",
        "data = [trace1, trace2, trace3]\n",
        "\n",
        "layout = go.Layout(title = 'Gain / (Loss) Total Return vs S&P 500'\n",
        "    , barmode = 'group'\n",
        "    , yaxis=dict(title='Gain / (Loss) ($)')\n",
        "    , yaxis2=dict(title='Ticker Return', overlaying='y', side='right', tickformat=\".2%\")\n",
        "    , xaxis=dict(title='Ticker')\n",
        "    , legend=dict(x=.75,y=1)\n",
        "    )\n",
        "\n",
        "fig = go.Figure(data=data, layout=layout)\n",
        "iplot(fig)"
      ],
      "execution_count": null,
      "outputs": []
    },
    {
      "cell_type": "code",
      "metadata": {
        "id": "lXoz-5vc3b6M",
        "colab_type": "code",
        "colab": {}
      },
      "source": [
        "trace1 = go.Bar(\n",
        "    x = merged_portfolio_sp_latest_YTD_sp_closing_high['Ticker'],\n",
        "    y = merged_portfolio_sp_latest_YTD_sp_closing_high['Cum Invst'],\n",
        "    # mode = 'lines+markers',\n",
        "    name = 'Cum Invst')\n",
        "\n",
        "trace2 = go.Bar(\n",
        "    x = merged_portfolio_sp_latest_YTD_sp_closing_high['Ticker'],\n",
        "    y = merged_portfolio_sp_latest_YTD_sp_closing_high['Cum SP Returns'],\n",
        "    # mode = 'lines+markers',\n",
        "    name = 'Cum SP500 Returns')\n",
        "\n",
        "trace3 = go.Bar(\n",
        "    x = merged_portfolio_sp_latest_YTD_sp_closing_high['Ticker'],\n",
        "    y = merged_portfolio_sp_latest_YTD_sp_closing_high['Cum Ticker Returns'],\n",
        "    # mode = 'lines+markers',\n",
        "    name = 'Cum Ticker Returns')\n",
        "\n",
        "trace4 = go.Scatter(\n",
        "    x = merged_portfolio_sp_latest_YTD_sp_closing_high['Ticker'],\n",
        "    y = merged_portfolio_sp_latest_YTD_sp_closing_high['Cum Ticker ROI Mult'],\n",
        "    # mode = 'lines+markers',\n",
        "    name = 'Cum ROI Mult'\n",
        "    , yaxis='y2')\n",
        "\n",
        "\n",
        "data = [trace1, trace2, trace3, trace4]\n",
        "\n",
        "layout = go.Layout(title = 'Total Cumulative Investments Over Time'\n",
        "    , barmode = 'group'\n",
        "    , yaxis=dict(title='Returns')\n",
        "    , xaxis=dict(title='Ticker')\n",
        "    , legend=dict(x=.4,y=1)\n",
        "    , yaxis2=dict(title='Cum ROI Mult', overlaying='y', side='right')               \n",
        "    )\n",
        "\n",
        "fig = go.Figure(data=data, layout=layout)\n",
        "iplot(fig)"
      ],
      "execution_count": null,
      "outputs": []
    },
    {
      "cell_type": "code",
      "metadata": {
        "id": "tMcXqZg83b6O",
        "colab_type": "code",
        "colab": {}
      },
      "source": [
        ""
      ],
      "execution_count": null,
      "outputs": []
    }
  ]
}