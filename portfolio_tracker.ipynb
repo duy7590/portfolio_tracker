{
  "nbformat": 4,
  "nbformat_minor": 0,
  "metadata": {
    "colab": {
      "name": "portfolio_tracker",
      "provenance": [],
      "collapsed_sections": [],
      "authorship_tag": "ABX9TyMP8IMB+PDXhUoIK2DXpGT2",
      "include_colab_link": true
    },
    "kernelspec": {
      "name": "python3",
      "display_name": "Python 3"
    }
  },
  "cells": [
    {
      "cell_type": "markdown",
      "metadata": {
        "id": "view-in-github",
        "colab_type": "text"
      },
      "source": [
        "<a href=\"https://colab.research.google.com/github/duy7590/portfolio_tracker/blob/master/portfolio_tracker.ipynb\" target=\"_parent\"><img src=\"https://colab.research.google.com/assets/colab-badge.svg\" alt=\"Open In Colab\"/></a>"
      ]
    },
    {
      "cell_type": "code",
      "metadata": {
        "id": "WBsGvRpM1MWm",
        "colab_type": "code",
        "colab": {}
      },
      "source": [
        ""
      ],
      "execution_count": null,
      "outputs": []
    },
    {
      "cell_type": "markdown",
      "metadata": {
        "id": "BM0bwPXQ1M5Q",
        "colab_type": "text"
      },
      "source": [
        "**Step 1 — Grabbing the Data**\n"
      ]
    },
    {
      "cell_type": "code",
      "metadata": {
        "id": "49p--2Xn1P2y",
        "colab_type": "code",
        "colab": {
          "base_uri": "https://localhost:8080/",
          "height": 411
        },
        "outputId": "34b7787c-7fbf-4047-8692-c6a1dc0a85e5"
      },
      "source": [
        "import pandas as pd\n",
        "import numpy as np\n",
        "import datetime\n",
        "import plotly.express as px\n",
        "!pip install yfinance\n",
        "!pip install pandas-market-calendars\n",
        "import yfinance as yf\n",
        "import pandas_market_calendars as mcal\n",
        "from plotly.offline import init_notebook_mode, plot\n",
        "init_notebook_mode(connected=True)\n",
        "\n",
        "\n",
        "def create_market_cal(start, end):\n",
        "    nyse = mcal.get_calendar('NYSE')\n",
        "    schedule = nyse.schedule(stocks_start, stocks_end)\n",
        "    market_cal = mcal.date_range(schedule, frequency='1D')\n",
        "    market_cal = market_cal.tz_localize(None)\n",
        "    market_cal = [i.replace(hour=0) for i in market_cal]\n",
        "    return market_cal\n",
        "\n",
        "\n",
        "def get_data(stocks, start, end):\n",
        "    def data(ticker):\n",
        "        df = yf.download(ticker, start=start, end=(end + datetime.timedelta(days=1)))\n",
        "        df['symbol'] = ticker\n",
        "        df.index = pd.to_datetime(df.index)\n",
        "        return df\n",
        "    datas = map(data, stocks)\n",
        "    return(pd.concat(datas, keys=stocks, names=['Ticker', 'Date'], sort=True))\n",
        "\n",
        "\n",
        "def get_benchmark(benchmark, start, end):\n",
        "    benchmark = get_data(benchmark, start, end)\n",
        "    benchmark = benchmark.drop(['symbol'], axis=1)\n",
        "    benchmark.reset_index(inplace=True)\n",
        "    return benchmark"
      ],
      "execution_count": null,
      "outputs": [
        {
          "output_type": "stream",
          "text": [
            "Requirement already satisfied: yfinance in /usr/local/lib/python3.6/dist-packages (0.1.54)\n",
            "Requirement already satisfied: multitasking>=0.0.7 in /usr/local/lib/python3.6/dist-packages (from yfinance) (0.0.9)\n",
            "Requirement already satisfied: pandas>=0.24 in /usr/local/lib/python3.6/dist-packages (from yfinance) (1.0.5)\n",
            "Requirement already satisfied: requests>=2.20 in /usr/local/lib/python3.6/dist-packages (from yfinance) (2.23.0)\n",
            "Requirement already satisfied: numpy>=1.15 in /usr/local/lib/python3.6/dist-packages (from yfinance) (1.18.5)\n",
            "Requirement already satisfied: pytz>=2017.2 in /usr/local/lib/python3.6/dist-packages (from pandas>=0.24->yfinance) (2018.9)\n",
            "Requirement already satisfied: python-dateutil>=2.6.1 in /usr/local/lib/python3.6/dist-packages (from pandas>=0.24->yfinance) (2.8.1)\n",
            "Requirement already satisfied: chardet<4,>=3.0.2 in /usr/local/lib/python3.6/dist-packages (from requests>=2.20->yfinance) (3.0.4)\n",
            "Requirement already satisfied: urllib3!=1.25.0,!=1.25.1,<1.26,>=1.21.1 in /usr/local/lib/python3.6/dist-packages (from requests>=2.20->yfinance) (1.24.3)\n",
            "Requirement already satisfied: idna<3,>=2.5 in /usr/local/lib/python3.6/dist-packages (from requests>=2.20->yfinance) (2.10)\n",
            "Requirement already satisfied: certifi>=2017.4.17 in /usr/local/lib/python3.6/dist-packages (from requests>=2.20->yfinance) (2020.6.20)\n",
            "Requirement already satisfied: six>=1.5 in /usr/local/lib/python3.6/dist-packages (from python-dateutil>=2.6.1->pandas>=0.24->yfinance) (1.15.0)\n",
            "Collecting pandas-market-calendars\n",
            "\u001b[?25l  Downloading https://files.pythonhosted.org/packages/68/0e/b189462e072198d889e2355c09242eca8ad0697c8e14099d605e7a424dc9/pandas_market_calendars-1.4.1-py3-none-any.whl (55kB)\n",
            "\u001b[K     |████████████████████████████████| 61kB 2.2MB/s \n",
            "\u001b[?25hRequirement already satisfied: pytz in /usr/local/lib/python3.6/dist-packages (from pandas-market-calendars) (2018.9)\n",
            "Requirement already satisfied: pandas>=0.18 in /usr/local/lib/python3.6/dist-packages (from pandas-market-calendars) (1.0.5)\n",
            "Requirement already satisfied: python-dateutil in /usr/local/lib/python3.6/dist-packages (from pandas-market-calendars) (2.8.1)\n",
            "Requirement already satisfied: numpy>=1.13.3 in /usr/local/lib/python3.6/dist-packages (from pandas>=0.18->pandas-market-calendars) (1.18.5)\n",
            "Requirement already satisfied: six>=1.5 in /usr/local/lib/python3.6/dist-packages (from python-dateutil->pandas-market-calendars) (1.15.0)\n",
            "Installing collected packages: pandas-market-calendars\n",
            "Successfully installed pandas-market-calendars-1.4.1\n"
          ],
          "name": "stdout"
        },
        {
          "output_type": "display_data",
          "data": {
            "text/html": [
              "        <script type=\"text/javascript\">\n",
              "        window.PlotlyConfig = {MathJaxConfig: 'local'};\n",
              "        if (window.MathJax) {MathJax.Hub.Config({SVG: {font: \"STIX-Web\"}});}\n",
              "        if (typeof require !== 'undefined') {\n",
              "        require.undef(\"plotly\");\n",
              "        requirejs.config({\n",
              "            paths: {\n",
              "                'plotly': ['https://cdn.plot.ly/plotly-latest.min']\n",
              "            }\n",
              "        });\n",
              "        require(['plotly'], function(Plotly) {\n",
              "            window._Plotly = Plotly;\n",
              "        });\n",
              "        }\n",
              "        </script>\n",
              "        "
            ]
          },
          "metadata": {
            "tags": []
          }
        }
      ]
    },
    {
      "cell_type": "code",
      "metadata": {
        "id": "G-HA-A3Tag4V",
        "colab_type": "code",
        "colab": {
          "base_uri": "https://localhost:8080/",
          "height": 51
        },
        "outputId": "0f40b672-fe83-4152-d2ca-f34bfd44f729"
      },
      "source": [
        "import io\n",
        "import requests\n",
        "url=\"https://raw.githubusercontent.com/duy7590/portfolio_tracker/master/stock_transactions.csv\"\n",
        "s=requests.get(url).content\n",
        "portfolio_df = pd.read_csv(io.StringIO(s.decode('utf-8')))\n",
        "portfolio_df['Open date'] = pd.to_datetime(portfolio_df['Open date'])\n",
        "symbols = portfolio_df.Symbol.unique()\n",
        "stocks_start = datetime.datetime(2017, 9, 1)\n",
        "stocks_end = datetime.datetime(2020, 4, 7)\n",
        "daily_adj_close = get_data(symbols, stocks_start, stocks_end)\n",
        "daily_adj_close = daily_adj_close[['Close']].reset_index()\n",
        "daily_benchmark = get_benchmark(['SPY'], stocks_start, stocks_end)\n",
        "daily_benchmark = daily_benchmark[['Date', 'Close']]\n",
        "market_cal = create_market_cal(stocks_start, stocks_end)"
      ],
      "execution_count": 16,
      "outputs": [
        {
          "output_type": "stream",
          "text": [
            "[*********************100%***********************]  1 of 1 completed\n",
            "[*********************100%***********************]  1 of 1 completed\n"
          ],
          "name": "stdout"
        }
      ]
    },
    {
      "cell_type": "code",
      "metadata": {
        "id": "ygiuYLugdOBg",
        "colab_type": "code",
        "colab": {
          "base_uri": "https://localhost:8080/",
          "height": 111
        },
        "outputId": "4c95c37c-dc02-40f6-ba0a-0a3f9e904b1a"
      },
      "source": [
        "portfolio_df"
      ],
      "execution_count": 17,
      "outputs": [
        {
          "output_type": "execute_result",
          "data": {
            "text/html": [
              "<div>\n",
              "<style scoped>\n",
              "    .dataframe tbody tr th:only-of-type {\n",
              "        vertical-align: middle;\n",
              "    }\n",
              "\n",
              "    .dataframe tbody tr th {\n",
              "        vertical-align: top;\n",
              "    }\n",
              "\n",
              "    .dataframe thead th {\n",
              "        text-align: right;\n",
              "    }\n",
              "</style>\n",
              "<table border=\"1\" class=\"dataframe\">\n",
              "  <thead>\n",
              "    <tr style=\"text-align: right;\">\n",
              "      <th></th>\n",
              "      <th>Index</th>\n",
              "      <th>Symbol</th>\n",
              "      <th>Security</th>\n",
              "      <th>Qty</th>\n",
              "      <th>Type</th>\n",
              "      <th>Open date</th>\n",
              "      <th>Adj Cost per share</th>\n",
              "      <th>Adj cost</th>\n",
              "    </tr>\n",
              "  </thead>\n",
              "  <tbody>\n",
              "    <tr>\n",
              "      <th>0</th>\n",
              "      <td>1</td>\n",
              "      <td>FB</td>\n",
              "      <td>FACEBOOK IN CL A</td>\n",
              "      <td>4</td>\n",
              "      <td>Buy</td>\n",
              "      <td>2014-12-31</td>\n",
              "      <td>78.860</td>\n",
              "      <td>315.44</td>\n",
              "    </tr>\n",
              "    <tr>\n",
              "      <th>1</th>\n",
              "      <td>2</td>\n",
              "      <td>FB</td>\n",
              "      <td>FACEBOOK IN CL A</td>\n",
              "      <td>13</td>\n",
              "      <td>Sell.FIFO</td>\n",
              "      <td>2018-12-31</td>\n",
              "      <td>202.451</td>\n",
              "      <td>2631.86</td>\n",
              "    </tr>\n",
              "  </tbody>\n",
              "</table>\n",
              "</div>"
            ],
            "text/plain": [
              "   Index  Symbol          Security  ...  Open date Adj Cost per share Adj cost\n",
              "0       1     FB  FACEBOOK IN CL A  ... 2014-12-31             78.860   315.44\n",
              "1       2     FB  FACEBOOK IN CL A  ... 2018-12-31            202.451  2631.86\n",
              "\n",
              "[2 rows x 8 columns]"
            ]
          },
          "metadata": {
            "tags": []
          },
          "execution_count": 17
        }
      ]
    },
    {
      "cell_type": "code",
      "metadata": {
        "id": "X-CQEA1yieWK",
        "colab_type": "code",
        "colab": {}
      },
      "source": [
        ""
      ],
      "execution_count": null,
      "outputs": []
    }
  ]
}